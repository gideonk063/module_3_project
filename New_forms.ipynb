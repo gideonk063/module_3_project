{
 "cells": [
  {
   "cell_type": "code",
   "execution_count": 278,
   "metadata": {},
   "outputs": [],
   "source": [
    "%matplotlib inline\n",
    "import requests\n",
    "import pandas as pd\n",
    "import json\n",
    "import pdb\n",
    "import numpy as np\n",
    "import matplotlib.pyplot as plt\n",
    "import seaborn as sns\n",
    "import math\n",
    "from scipy import stats\n",
    "import random"
   ]
  },
  {
   "cell_type": "code",
   "execution_count": 280,
   "metadata": {},
   "outputs": [],
   "source": [
    "random.seed(54)"
   ]
  },
  {
   "cell_type": "code",
   "execution_count": 2,
   "metadata": {},
   "outputs": [],
   "source": [
    "import sqlite3\n",
    "import pandas as pd\n",
    "conn = sqlite3.connect('/Users/flatironschool/Desktop/formations.sqlite')\n",
    "c = conn.cursor()"
   ]
  },
  {
   "cell_type": "code",
   "execution_count": 3,
   "metadata": {},
   "outputs": [],
   "source": [
    "c.execute('Select * from Player')\n",
    "df_2 = pd.DataFrame(c.fetchall())\n",
    "df_2.columns = [x[0] for x in c.description]"
   ]
  },
  {
   "cell_type": "code",
   "execution_count": 4,
   "metadata": {},
   "outputs": [
    {
     "data": {
      "text/html": [
       "<div>\n",
       "<style scoped>\n",
       "    .dataframe tbody tr th:only-of-type {\n",
       "        vertical-align: middle;\n",
       "    }\n",
       "\n",
       "    .dataframe tbody tr th {\n",
       "        vertical-align: top;\n",
       "    }\n",
       "\n",
       "    .dataframe thead th {\n",
       "        text-align: right;\n",
       "    }\n",
       "</style>\n",
       "<table border=\"1\" class=\"dataframe\">\n",
       "  <thead>\n",
       "    <tr style=\"text-align: right;\">\n",
       "      <th></th>\n",
       "      <th>id</th>\n",
       "      <th>country_id</th>\n",
       "      <th>league_id</th>\n",
       "      <th>season</th>\n",
       "      <th>stage</th>\n",
       "      <th>date</th>\n",
       "      <th>match_api_id</th>\n",
       "      <th>home_team_api_id</th>\n",
       "      <th>away_team_api_id</th>\n",
       "      <th>home_team_goal</th>\n",
       "      <th>...</th>\n",
       "      <th>SJA</th>\n",
       "      <th>VCH</th>\n",
       "      <th>VCD</th>\n",
       "      <th>VCA</th>\n",
       "      <th>GBH</th>\n",
       "      <th>GBD</th>\n",
       "      <th>GBA</th>\n",
       "      <th>BSH</th>\n",
       "      <th>BSD</th>\n",
       "      <th>BSA</th>\n",
       "    </tr>\n",
       "  </thead>\n",
       "  <tbody>\n",
       "    <tr>\n",
       "      <td>0</td>\n",
       "      <td>757</td>\n",
       "      <td>1</td>\n",
       "      <td>1</td>\n",
       "      <td>2011/2012</td>\n",
       "      <td>1</td>\n",
       "      <td>2011-07-29 00:00:00</td>\n",
       "      <td>1032692</td>\n",
       "      <td>1773</td>\n",
       "      <td>8635</td>\n",
       "      <td>2</td>\n",
       "      <td>...</td>\n",
       "      <td>1.57</td>\n",
       "      <td>7.0</td>\n",
       "      <td>4.0</td>\n",
       "      <td>1.5</td>\n",
       "      <td>6.0</td>\n",
       "      <td>3.75</td>\n",
       "      <td>1.5</td>\n",
       "      <td>6.5</td>\n",
       "      <td>4.0</td>\n",
       "      <td>1.44</td>\n",
       "    </tr>\n",
       "  </tbody>\n",
       "</table>\n",
       "<p>1 rows × 115 columns</p>\n",
       "</div>"
      ],
      "text/plain": [
       "    id  country_id  league_id     season  stage                 date  \\\n",
       "0  757           1          1  2011/2012      1  2011-07-29 00:00:00   \n",
       "\n",
       "   match_api_id  home_team_api_id  away_team_api_id  home_team_goal  ...  \\\n",
       "0       1032692              1773              8635               2  ...   \n",
       "\n",
       "    SJA  VCH  VCD  VCA  GBH   GBD  GBA  BSH  BSD   BSA  \n",
       "0  1.57  7.0  4.0  1.5  6.0  3.75  1.5  6.5  4.0  1.44  \n",
       "\n",
       "[1 rows x 115 columns]"
      ]
     },
     "execution_count": 4,
     "metadata": {},
     "output_type": "execute_result"
    }
   ],
   "source": [
    "c.execute(\"\"\"\n",
    "    SELECT *\n",
    "    FROM Match\n",
    "    WHERE season = '2015/2016' OR season = '2014/2015' OR season = '2013/2014' OR season = '2012/2013' OR season = '2011/2012' \n",
    "\"\"\")\n",
    "df_3 = pd.DataFrame(c.fetchall())\n",
    "df_3.columns = [x[0] for x in c.description]\n",
    "df_3.head(1)"
   ]
  },
  {
   "cell_type": "code",
   "execution_count": 5,
   "metadata": {},
   "outputs": [
    {
     "data": {
      "text/html": [
       "<div>\n",
       "<style scoped>\n",
       "    .dataframe tbody tr th:only-of-type {\n",
       "        vertical-align: middle;\n",
       "    }\n",
       "\n",
       "    .dataframe tbody tr th {\n",
       "        vertical-align: top;\n",
       "    }\n",
       "\n",
       "    .dataframe thead th {\n",
       "        text-align: right;\n",
       "    }\n",
       "</style>\n",
       "<table border=\"1\" class=\"dataframe\">\n",
       "  <thead>\n",
       "    <tr style=\"text-align: right;\">\n",
       "      <th></th>\n",
       "      <th>id</th>\n",
       "      <th>country_id</th>\n",
       "      <th>league_id</th>\n",
       "      <th>season</th>\n",
       "      <th>stage</th>\n",
       "      <th>date</th>\n",
       "      <th>match_api_id</th>\n",
       "      <th>home_team_api_id</th>\n",
       "      <th>away_team_api_id</th>\n",
       "      <th>home_team_goal</th>\n",
       "      <th>...</th>\n",
       "      <th>SJA</th>\n",
       "      <th>VCH</th>\n",
       "      <th>VCD</th>\n",
       "      <th>VCA</th>\n",
       "      <th>GBH</th>\n",
       "      <th>GBD</th>\n",
       "      <th>GBA</th>\n",
       "      <th>BSH</th>\n",
       "      <th>BSD</th>\n",
       "      <th>BSA</th>\n",
       "    </tr>\n",
       "  </thead>\n",
       "  <tbody>\n",
       "    <tr>\n",
       "      <td>972</td>\n",
       "      <td>2869</td>\n",
       "      <td>1729</td>\n",
       "      <td>1729</td>\n",
       "      <td>2011/2012</td>\n",
       "      <td>1</td>\n",
       "      <td>2011-08-13 00:00:00</td>\n",
       "      <td>1024172</td>\n",
       "      <td>8655</td>\n",
       "      <td>8602</td>\n",
       "      <td>1</td>\n",
       "      <td>...</td>\n",
       "      <td>3.6</td>\n",
       "      <td>2.15</td>\n",
       "      <td>3.4</td>\n",
       "      <td>3.6</td>\n",
       "      <td>2.1</td>\n",
       "      <td>3.2</td>\n",
       "      <td>3.5</td>\n",
       "      <td>2.0</td>\n",
       "      <td>3.4</td>\n",
       "      <td>3.6</td>\n",
       "    </tr>\n",
       "  </tbody>\n",
       "</table>\n",
       "<p>1 rows × 115 columns</p>\n",
       "</div>"
      ],
      "text/plain": [
       "       id  country_id  league_id     season  stage                 date  \\\n",
       "972  2869        1729       1729  2011/2012      1  2011-08-13 00:00:00   \n",
       "\n",
       "     match_api_id  home_team_api_id  away_team_api_id  home_team_goal  ...  \\\n",
       "972       1024172              8655              8602               1  ...   \n",
       "\n",
       "     SJA   VCH  VCD  VCA  GBH  GBD  GBA  BSH  BSD  BSA  \n",
       "972  3.6  2.15  3.4  3.6  2.1  3.2  3.5  2.0  3.4  3.6  \n",
       "\n",
       "[1 rows x 115 columns]"
      ]
     },
     "execution_count": 5,
     "metadata": {},
     "output_type": "execute_result"
    }
   ],
   "source": [
    "#england only\n",
    "df_3 = df_3[df_3['country_id']==1729]\n",
    "df_3.head(1)"
   ]
  },
  {
   "cell_type": "code",
   "execution_count": 6,
   "metadata": {},
   "outputs": [
    {
     "data": {
      "text/html": [
       "<div>\n",
       "<style scoped>\n",
       "    .dataframe tbody tr th:only-of-type {\n",
       "        vertical-align: middle;\n",
       "    }\n",
       "\n",
       "    .dataframe tbody tr th {\n",
       "        vertical-align: top;\n",
       "    }\n",
       "\n",
       "    .dataframe thead th {\n",
       "        text-align: right;\n",
       "    }\n",
       "</style>\n",
       "<table border=\"1\" class=\"dataframe\">\n",
       "  <thead>\n",
       "    <tr style=\"text-align: right;\">\n",
       "      <th></th>\n",
       "      <th>id</th>\n",
       "      <th>team_api_id</th>\n",
       "      <th>team_fifa_api_id</th>\n",
       "      <th>team_long_name</th>\n",
       "      <th>team_short_name</th>\n",
       "    </tr>\n",
       "  </thead>\n",
       "  <tbody>\n",
       "    <tr>\n",
       "      <td>0</td>\n",
       "      <td>1</td>\n",
       "      <td>9987</td>\n",
       "      <td>673.0</td>\n",
       "      <td>KRC Genk</td>\n",
       "      <td>GEN</td>\n",
       "    </tr>\n",
       "  </tbody>\n",
       "</table>\n",
       "</div>"
      ],
      "text/plain": [
       "   id  team_api_id  team_fifa_api_id team_long_name team_short_name\n",
       "0   1         9987             673.0       KRC Genk             GEN"
      ]
     },
     "execution_count": 6,
     "metadata": {},
     "output_type": "execute_result"
    }
   ],
   "source": [
    "c.execute('Select * from Team')\n",
    "df_4 = pd.DataFrame(c.fetchall())\n",
    "df_4.columns = [x[0] for x in c.description]\n",
    "df_4.head(1)"
   ]
  },
  {
   "cell_type": "code",
   "execution_count": 7,
   "metadata": {},
   "outputs": [],
   "source": [
    "team_id_dict = {}\n",
    "for team in df_4['team_api_id'].unique():\n",
    "    team_id_dict[team] = list(df_4.loc[df_4['team_api_id']==team]['team_long_name'])[0]"
   ]
  },
  {
   "cell_type": "code",
   "execution_count": 8,
   "metadata": {},
   "outputs": [],
   "source": [
    "df_3['home_name'] = df_3['home_team_api_id'].map(team_id_dict)\n",
    "df_3['away_name'] = df_3['away_team_api_id'].map(team_id_dict)"
   ]
  },
  {
   "cell_type": "code",
   "execution_count": 9,
   "metadata": {},
   "outputs": [],
   "source": [
    "df_31_list = ['season','home_name','away_name','home_team_goal', 'away_team_goal']\n",
    "df_31 = df_3[df_31_list]"
   ]
  },
  {
   "cell_type": "code",
   "execution_count": 10,
   "metadata": {},
   "outputs": [
    {
     "data": {
      "text/html": [
       "<div>\n",
       "<style scoped>\n",
       "    .dataframe tbody tr th:only-of-type {\n",
       "        vertical-align: middle;\n",
       "    }\n",
       "\n",
       "    .dataframe tbody tr th {\n",
       "        vertical-align: top;\n",
       "    }\n",
       "\n",
       "    .dataframe thead th {\n",
       "        text-align: right;\n",
       "    }\n",
       "</style>\n",
       "<table border=\"1\" class=\"dataframe\">\n",
       "  <thead>\n",
       "    <tr style=\"text-align: right;\">\n",
       "      <th></th>\n",
       "      <th>season</th>\n",
       "      <th>home_name</th>\n",
       "      <th>away_name</th>\n",
       "      <th>home_team_goal</th>\n",
       "      <th>away_team_goal</th>\n",
       "    </tr>\n",
       "  </thead>\n",
       "  <tbody>\n",
       "    <tr>\n",
       "      <td>972</td>\n",
       "      <td>2011/2012</td>\n",
       "      <td>Blackburn Rovers</td>\n",
       "      <td>Wolverhampton Wanderers</td>\n",
       "      <td>1</td>\n",
       "      <td>2</td>\n",
       "    </tr>\n",
       "  </tbody>\n",
       "</table>\n",
       "</div>"
      ],
      "text/plain": [
       "        season         home_name                away_name  home_team_goal  \\\n",
       "972  2011/2012  Blackburn Rovers  Wolverhampton Wanderers               1   \n",
       "\n",
       "     away_team_goal  \n",
       "972               2  "
      ]
     },
     "execution_count": 10,
     "metadata": {},
     "output_type": "execute_result"
    }
   ],
   "source": [
    "df_31.head(1)"
   ]
  },
  {
   "cell_type": "code",
   "execution_count": 11,
   "metadata": {},
   "outputs": [],
   "source": [
    "df_32=df_3[['home_name','away_name','home_team_goal','away_team_goal','home_player_Y1',\n",
    "'home_player_Y2',\n",
    "'home_player_Y3',\n",
    "'home_player_Y4',\n",
    "'home_player_Y5',\n",
    "'home_player_Y6',\n",
    "'home_player_Y7',\n",
    "'home_player_Y8',\n",
    "'home_player_Y9',\n",
    "'home_player_Y10',\n",
    "'home_player_Y11',\n",
    "'away_player_Y1',\n",
    "'away_player_Y2',\n",
    "'away_player_Y3',\n",
    "'away_player_Y4',\n",
    "'away_player_Y5',\n",
    "'away_player_Y6',\n",
    "'away_player_Y7',\n",
    "'away_player_Y8',\n",
    "'away_player_Y9',\n",
    "'away_player_Y10',\n",
    "'away_player_Y11']]"
   ]
  },
  {
   "cell_type": "code",
   "execution_count": 12,
   "metadata": {},
   "outputs": [
    {
     "name": "stderr",
     "output_type": "stream",
     "text": [
      "/Users/flatironschool/opt/anaconda3/lib/python3.7/site-packages/ipykernel_launcher.py:1: SettingWithCopyWarning: \n",
      "A value is trying to be set on a copy of a slice from a DataFrame.\n",
      "Try using .loc[row_indexer,col_indexer] = value instead\n",
      "\n",
      "See the caveats in the documentation: http://pandas.pydata.org/pandas-docs/stable/user_guide/indexing.html#returning-a-view-versus-a-copy\n",
      "  \"\"\"Entry point for launching an IPython kernel.\n",
      "/Users/flatironschool/opt/anaconda3/lib/python3.7/site-packages/ipykernel_launcher.py:2: SettingWithCopyWarning: \n",
      "A value is trying to be set on a copy of a slice from a DataFrame.\n",
      "Try using .loc[row_indexer,col_indexer] = value instead\n",
      "\n",
      "See the caveats in the documentation: http://pandas.pydata.org/pandas-docs/stable/user_guide/indexing.html#returning-a-view-versus-a-copy\n",
      "  \n"
     ]
    }
   ],
   "source": [
    "df_32['home_form']=None\n",
    "df_32['away_form']=None"
   ]
  },
  {
   "cell_type": "code",
   "execution_count": 13,
   "metadata": {},
   "outputs": [
    {
     "data": {
      "text/html": [
       "<div>\n",
       "<style scoped>\n",
       "    .dataframe tbody tr th:only-of-type {\n",
       "        vertical-align: middle;\n",
       "    }\n",
       "\n",
       "    .dataframe tbody tr th {\n",
       "        vertical-align: top;\n",
       "    }\n",
       "\n",
       "    .dataframe thead th {\n",
       "        text-align: right;\n",
       "    }\n",
       "</style>\n",
       "<table border=\"1\" class=\"dataframe\">\n",
       "  <thead>\n",
       "    <tr style=\"text-align: right;\">\n",
       "      <th></th>\n",
       "      <th>home_name</th>\n",
       "      <th>away_name</th>\n",
       "      <th>home_team_goal</th>\n",
       "      <th>away_team_goal</th>\n",
       "      <th>home_player_Y1</th>\n",
       "      <th>home_player_Y2</th>\n",
       "      <th>home_player_Y3</th>\n",
       "      <th>home_player_Y4</th>\n",
       "      <th>home_player_Y5</th>\n",
       "      <th>home_player_Y6</th>\n",
       "      <th>...</th>\n",
       "      <th>away_player_Y4</th>\n",
       "      <th>away_player_Y5</th>\n",
       "      <th>away_player_Y6</th>\n",
       "      <th>away_player_Y7</th>\n",
       "      <th>away_player_Y8</th>\n",
       "      <th>away_player_Y9</th>\n",
       "      <th>away_player_Y10</th>\n",
       "      <th>away_player_Y11</th>\n",
       "      <th>home_form</th>\n",
       "      <th>away_form</th>\n",
       "    </tr>\n",
       "  </thead>\n",
       "  <tbody>\n",
       "    <tr>\n",
       "      <td>972</td>\n",
       "      <td>Blackburn Rovers</td>\n",
       "      <td>Wolverhampton Wanderers</td>\n",
       "      <td>1</td>\n",
       "      <td>2</td>\n",
       "      <td>1.0</td>\n",
       "      <td>3.0</td>\n",
       "      <td>3.0</td>\n",
       "      <td>3.0</td>\n",
       "      <td>3.0</td>\n",
       "      <td>7.0</td>\n",
       "      <td>...</td>\n",
       "      <td>3.0</td>\n",
       "      <td>3.0</td>\n",
       "      <td>7.0</td>\n",
       "      <td>7.0</td>\n",
       "      <td>7.0</td>\n",
       "      <td>7.0</td>\n",
       "      <td>10.0</td>\n",
       "      <td>10.0</td>\n",
       "      <td>None</td>\n",
       "      <td>None</td>\n",
       "    </tr>\n",
       "  </tbody>\n",
       "</table>\n",
       "<p>1 rows × 28 columns</p>\n",
       "</div>"
      ],
      "text/plain": [
       "            home_name                away_name  home_team_goal  \\\n",
       "972  Blackburn Rovers  Wolverhampton Wanderers               1   \n",
       "\n",
       "     away_team_goal  home_player_Y1  home_player_Y2  home_player_Y3  \\\n",
       "972               2             1.0             3.0             3.0   \n",
       "\n",
       "     home_player_Y4  home_player_Y5  home_player_Y6  ...  away_player_Y4  \\\n",
       "972             3.0             3.0             7.0  ...             3.0   \n",
       "\n",
       "     away_player_Y5  away_player_Y6  away_player_Y7  away_player_Y8  \\\n",
       "972             3.0             7.0             7.0             7.0   \n",
       "\n",
       "     away_player_Y9  away_player_Y10  away_player_Y11  home_form  away_form  \n",
       "972             7.0             10.0             10.0       None       None  \n",
       "\n",
       "[1 rows x 28 columns]"
      ]
     },
     "execution_count": 13,
     "metadata": {},
     "output_type": "execute_result"
    }
   ],
   "source": [
    "df_32.head(1)"
   ]
  },
  {
   "cell_type": "code",
   "execution_count": 14,
   "metadata": {},
   "outputs": [],
   "source": [
    "pos_dict={0:'GK',1:'GK',2:'D',3:'D',4:'D',5:'M',6:'M',7:'M',8:'A',9:'F',10:'F',11:'F'}"
   ]
  },
  {
   "cell_type": "code",
   "execution_count": 15,
   "metadata": {},
   "outputs": [],
   "source": [
    "df_33 = df_32.drop(['home_name','away_name','home_team_goal','away_team_goal','home_form','away_form'],axis=1)"
   ]
  },
  {
   "cell_type": "code",
   "execution_count": 16,
   "metadata": {},
   "outputs": [],
   "source": [
    "df_33.dropna(inplace=True)"
   ]
  },
  {
   "cell_type": "code",
   "execution_count": 17,
   "metadata": {},
   "outputs": [],
   "source": [
    "df_34 = df_33.applymap(lambda x: pos_dict[x])"
   ]
  },
  {
   "cell_type": "code",
   "execution_count": 18,
   "metadata": {},
   "outputs": [
    {
     "data": {
      "text/html": [
       "<div>\n",
       "<style scoped>\n",
       "    .dataframe tbody tr th:only-of-type {\n",
       "        vertical-align: middle;\n",
       "    }\n",
       "\n",
       "    .dataframe tbody tr th {\n",
       "        vertical-align: top;\n",
       "    }\n",
       "\n",
       "    .dataframe thead th {\n",
       "        text-align: right;\n",
       "    }\n",
       "</style>\n",
       "<table border=\"1\" class=\"dataframe\">\n",
       "  <thead>\n",
       "    <tr style=\"text-align: right;\">\n",
       "      <th></th>\n",
       "      <th>home_player_Y1</th>\n",
       "      <th>home_player_Y2</th>\n",
       "      <th>home_player_Y3</th>\n",
       "      <th>home_player_Y4</th>\n",
       "      <th>home_player_Y5</th>\n",
       "      <th>home_player_Y6</th>\n",
       "      <th>home_player_Y7</th>\n",
       "      <th>home_player_Y8</th>\n",
       "      <th>home_player_Y9</th>\n",
       "      <th>home_player_Y10</th>\n",
       "      <th>...</th>\n",
       "      <th>away_player_Y2</th>\n",
       "      <th>away_player_Y3</th>\n",
       "      <th>away_player_Y4</th>\n",
       "      <th>away_player_Y5</th>\n",
       "      <th>away_player_Y6</th>\n",
       "      <th>away_player_Y7</th>\n",
       "      <th>away_player_Y8</th>\n",
       "      <th>away_player_Y9</th>\n",
       "      <th>away_player_Y10</th>\n",
       "      <th>away_player_Y11</th>\n",
       "    </tr>\n",
       "  </thead>\n",
       "  <tbody>\n",
       "    <tr>\n",
       "      <td>972</td>\n",
       "      <td>GK</td>\n",
       "      <td>D</td>\n",
       "      <td>D</td>\n",
       "      <td>D</td>\n",
       "      <td>D</td>\n",
       "      <td>M</td>\n",
       "      <td>M</td>\n",
       "      <td>M</td>\n",
       "      <td>F</td>\n",
       "      <td>F</td>\n",
       "      <td>...</td>\n",
       "      <td>D</td>\n",
       "      <td>D</td>\n",
       "      <td>D</td>\n",
       "      <td>D</td>\n",
       "      <td>M</td>\n",
       "      <td>M</td>\n",
       "      <td>M</td>\n",
       "      <td>M</td>\n",
       "      <td>F</td>\n",
       "      <td>F</td>\n",
       "    </tr>\n",
       "  </tbody>\n",
       "</table>\n",
       "<p>1 rows × 22 columns</p>\n",
       "</div>"
      ],
      "text/plain": [
       "    home_player_Y1 home_player_Y2 home_player_Y3 home_player_Y4  \\\n",
       "972             GK              D              D              D   \n",
       "\n",
       "    home_player_Y5 home_player_Y6 home_player_Y7 home_player_Y8  \\\n",
       "972              D              M              M              M   \n",
       "\n",
       "    home_player_Y9 home_player_Y10  ... away_player_Y2 away_player_Y3  \\\n",
       "972              F               F  ...              D              D   \n",
       "\n",
       "    away_player_Y4 away_player_Y5 away_player_Y6 away_player_Y7  \\\n",
       "972              D              D              M              M   \n",
       "\n",
       "    away_player_Y8 away_player_Y9 away_player_Y10 away_player_Y11  \n",
       "972              M              M               F               F  \n",
       "\n",
       "[1 rows x 22 columns]"
      ]
     },
     "execution_count": 18,
     "metadata": {},
     "output_type": "execute_result"
    }
   ],
   "source": [
    "df_34.head(1)"
   ]
  },
  {
   "cell_type": "code",
   "execution_count": 19,
   "metadata": {},
   "outputs": [],
   "source": [
    "df_35 = df_32.copy()"
   ]
  },
  {
   "cell_type": "code",
   "execution_count": 20,
   "metadata": {},
   "outputs": [
    {
     "data": {
      "text/html": [
       "<div>\n",
       "<style scoped>\n",
       "    .dataframe tbody tr th:only-of-type {\n",
       "        vertical-align: middle;\n",
       "    }\n",
       "\n",
       "    .dataframe tbody tr th {\n",
       "        vertical-align: top;\n",
       "    }\n",
       "\n",
       "    .dataframe thead th {\n",
       "        text-align: right;\n",
       "    }\n",
       "</style>\n",
       "<table border=\"1\" class=\"dataframe\">\n",
       "  <thead>\n",
       "    <tr style=\"text-align: right;\">\n",
       "      <th></th>\n",
       "      <th>home_name</th>\n",
       "      <th>away_name</th>\n",
       "      <th>home_team_goal</th>\n",
       "      <th>away_team_goal</th>\n",
       "      <th>home_player_Y1</th>\n",
       "      <th>home_player_Y2</th>\n",
       "      <th>home_player_Y3</th>\n",
       "      <th>home_player_Y4</th>\n",
       "      <th>home_player_Y5</th>\n",
       "      <th>home_player_Y6</th>\n",
       "      <th>...</th>\n",
       "      <th>away_player_Y4</th>\n",
       "      <th>away_player_Y5</th>\n",
       "      <th>away_player_Y6</th>\n",
       "      <th>away_player_Y7</th>\n",
       "      <th>away_player_Y8</th>\n",
       "      <th>away_player_Y9</th>\n",
       "      <th>away_player_Y10</th>\n",
       "      <th>away_player_Y11</th>\n",
       "      <th>home_form</th>\n",
       "      <th>away_form</th>\n",
       "    </tr>\n",
       "  </thead>\n",
       "  <tbody>\n",
       "    <tr>\n",
       "      <td>972</td>\n",
       "      <td>Blackburn Rovers</td>\n",
       "      <td>Wolverhampton Wanderers</td>\n",
       "      <td>1</td>\n",
       "      <td>2</td>\n",
       "      <td>1.0</td>\n",
       "      <td>3.0</td>\n",
       "      <td>3.0</td>\n",
       "      <td>3.0</td>\n",
       "      <td>3.0</td>\n",
       "      <td>7.0</td>\n",
       "      <td>...</td>\n",
       "      <td>3.0</td>\n",
       "      <td>3.0</td>\n",
       "      <td>7.0</td>\n",
       "      <td>7.0</td>\n",
       "      <td>7.0</td>\n",
       "      <td>7.0</td>\n",
       "      <td>10.0</td>\n",
       "      <td>10.0</td>\n",
       "      <td>None</td>\n",
       "      <td>None</td>\n",
       "    </tr>\n",
       "  </tbody>\n",
       "</table>\n",
       "<p>1 rows × 28 columns</p>\n",
       "</div>"
      ],
      "text/plain": [
       "            home_name                away_name  home_team_goal  \\\n",
       "972  Blackburn Rovers  Wolverhampton Wanderers               1   \n",
       "\n",
       "     away_team_goal  home_player_Y1  home_player_Y2  home_player_Y3  \\\n",
       "972               2             1.0             3.0             3.0   \n",
       "\n",
       "     home_player_Y4  home_player_Y5  home_player_Y6  ...  away_player_Y4  \\\n",
       "972             3.0             3.0             7.0  ...             3.0   \n",
       "\n",
       "     away_player_Y5  away_player_Y6  away_player_Y7  away_player_Y8  \\\n",
       "972             3.0             7.0             7.0             7.0   \n",
       "\n",
       "     away_player_Y9  away_player_Y10  away_player_Y11  home_form  away_form  \n",
       "972             7.0             10.0             10.0       None       None  \n",
       "\n",
       "[1 rows x 28 columns]"
      ]
     },
     "execution_count": 20,
     "metadata": {},
     "output_type": "execute_result"
    }
   ],
   "source": [
    "df_35.head(1)"
   ]
  },
  {
   "cell_type": "code",
   "execution_count": 21,
   "metadata": {},
   "outputs": [],
   "source": [
    "df_35=df_32[['home_name','away_name','home_team_goal','away_team_goal']]"
   ]
  },
  {
   "cell_type": "code",
   "execution_count": 22,
   "metadata": {},
   "outputs": [
    {
     "name": "stderr",
     "output_type": "stream",
     "text": [
      "/Users/flatironschool/opt/anaconda3/lib/python3.7/site-packages/ipykernel_launcher.py:1: SettingWithCopyWarning: \n",
      "A value is trying to be set on a copy of a slice from a DataFrame.\n",
      "Try using .loc[row_indexer,col_indexer] = value instead\n",
      "\n",
      "See the caveats in the documentation: http://pandas.pydata.org/pandas-docs/stable/user_guide/indexing.html#returning-a-view-versus-a-copy\n",
      "  \"\"\"Entry point for launching an IPython kernel.\n",
      "/Users/flatironschool/opt/anaconda3/lib/python3.7/site-packages/ipykernel_launcher.py:2: SettingWithCopyWarning: \n",
      "A value is trying to be set on a copy of a slice from a DataFrame.\n",
      "Try using .loc[row_indexer,col_indexer] = value instead\n",
      "\n",
      "See the caveats in the documentation: http://pandas.pydata.org/pandas-docs/stable/user_guide/indexing.html#returning-a-view-versus-a-copy\n",
      "  \n",
      "/Users/flatironschool/opt/anaconda3/lib/python3.7/site-packages/ipykernel_launcher.py:3: SettingWithCopyWarning: \n",
      "A value is trying to be set on a copy of a slice from a DataFrame.\n",
      "Try using .loc[row_indexer,col_indexer] = value instead\n",
      "\n",
      "See the caveats in the documentation: http://pandas.pydata.org/pandas-docs/stable/user_guide/indexing.html#returning-a-view-versus-a-copy\n",
      "  This is separate from the ipykernel package so we can avoid doing imports until\n",
      "/Users/flatironschool/opt/anaconda3/lib/python3.7/site-packages/ipykernel_launcher.py:4: SettingWithCopyWarning: \n",
      "A value is trying to be set on a copy of a slice from a DataFrame.\n",
      "Try using .loc[row_indexer,col_indexer] = value instead\n",
      "\n",
      "See the caveats in the documentation: http://pandas.pydata.org/pandas-docs/stable/user_guide/indexing.html#returning-a-view-versus-a-copy\n",
      "  after removing the cwd from sys.path.\n",
      "/Users/flatironschool/opt/anaconda3/lib/python3.7/site-packages/ipykernel_launcher.py:5: SettingWithCopyWarning: \n",
      "A value is trying to be set on a copy of a slice from a DataFrame.\n",
      "Try using .loc[row_indexer,col_indexer] = value instead\n",
      "\n",
      "See the caveats in the documentation: http://pandas.pydata.org/pandas-docs/stable/user_guide/indexing.html#returning-a-view-versus-a-copy\n",
      "  \"\"\"\n",
      "/Users/flatironschool/opt/anaconda3/lib/python3.7/site-packages/ipykernel_launcher.py:6: SettingWithCopyWarning: \n",
      "A value is trying to be set on a copy of a slice from a DataFrame.\n",
      "Try using .loc[row_indexer,col_indexer] = value instead\n",
      "\n",
      "See the caveats in the documentation: http://pandas.pydata.org/pandas-docs/stable/user_guide/indexing.html#returning-a-view-versus-a-copy\n",
      "  \n",
      "/Users/flatironschool/opt/anaconda3/lib/python3.7/site-packages/ipykernel_launcher.py:7: SettingWithCopyWarning: \n",
      "A value is trying to be set on a copy of a slice from a DataFrame.\n",
      "Try using .loc[row_indexer,col_indexer] = value instead\n",
      "\n",
      "See the caveats in the documentation: http://pandas.pydata.org/pandas-docs/stable/user_guide/indexing.html#returning-a-view-versus-a-copy\n",
      "  import sys\n",
      "/Users/flatironschool/opt/anaconda3/lib/python3.7/site-packages/ipykernel_launcher.py:8: SettingWithCopyWarning: \n",
      "A value is trying to be set on a copy of a slice from a DataFrame.\n",
      "Try using .loc[row_indexer,col_indexer] = value instead\n",
      "\n",
      "See the caveats in the documentation: http://pandas.pydata.org/pandas-docs/stable/user_guide/indexing.html#returning-a-view-versus-a-copy\n",
      "  \n",
      "/Users/flatironschool/opt/anaconda3/lib/python3.7/site-packages/ipykernel_launcher.py:9: SettingWithCopyWarning: \n",
      "A value is trying to be set on a copy of a slice from a DataFrame.\n",
      "Try using .loc[row_indexer,col_indexer] = value instead\n",
      "\n",
      "See the caveats in the documentation: http://pandas.pydata.org/pandas-docs/stable/user_guide/indexing.html#returning-a-view-versus-a-copy\n",
      "  if __name__ == '__main__':\n",
      "/Users/flatironschool/opt/anaconda3/lib/python3.7/site-packages/ipykernel_launcher.py:10: SettingWithCopyWarning: \n",
      "A value is trying to be set on a copy of a slice from a DataFrame.\n",
      "Try using .loc[row_indexer,col_indexer] = value instead\n",
      "\n",
      "See the caveats in the documentation: http://pandas.pydata.org/pandas-docs/stable/user_guide/indexing.html#returning-a-view-versus-a-copy\n",
      "  # Remove the CWD from sys.path while we load stuff.\n",
      "/Users/flatironschool/opt/anaconda3/lib/python3.7/site-packages/ipykernel_launcher.py:11: SettingWithCopyWarning: \n",
      "A value is trying to be set on a copy of a slice from a DataFrame.\n",
      "Try using .loc[row_indexer,col_indexer] = value instead\n",
      "\n",
      "See the caveats in the documentation: http://pandas.pydata.org/pandas-docs/stable/user_guide/indexing.html#returning-a-view-versus-a-copy\n",
      "  # This is added back by InteractiveShellApp.init_path()\n",
      "/Users/flatironschool/opt/anaconda3/lib/python3.7/site-packages/ipykernel_launcher.py:12: SettingWithCopyWarning: \n",
      "A value is trying to be set on a copy of a slice from a DataFrame.\n",
      "Try using .loc[row_indexer,col_indexer] = value instead\n",
      "\n",
      "See the caveats in the documentation: http://pandas.pydata.org/pandas-docs/stable/user_guide/indexing.html#returning-a-view-versus-a-copy\n",
      "  if sys.path[0] == '':\n",
      "/Users/flatironschool/opt/anaconda3/lib/python3.7/site-packages/ipykernel_launcher.py:13: SettingWithCopyWarning: \n",
      "A value is trying to be set on a copy of a slice from a DataFrame.\n",
      "Try using .loc[row_indexer,col_indexer] = value instead\n",
      "\n",
      "See the caveats in the documentation: http://pandas.pydata.org/pandas-docs/stable/user_guide/indexing.html#returning-a-view-versus-a-copy\n",
      "  del sys.path[0]\n",
      "/Users/flatironschool/opt/anaconda3/lib/python3.7/site-packages/ipykernel_launcher.py:14: SettingWithCopyWarning: \n",
      "A value is trying to be set on a copy of a slice from a DataFrame.\n",
      "Try using .loc[row_indexer,col_indexer] = value instead\n",
      "\n",
      "See the caveats in the documentation: http://pandas.pydata.org/pandas-docs/stable/user_guide/indexing.html#returning-a-view-versus-a-copy\n",
      "  \n",
      "/Users/flatironschool/opt/anaconda3/lib/python3.7/site-packages/ipykernel_launcher.py:15: SettingWithCopyWarning: \n",
      "A value is trying to be set on a copy of a slice from a DataFrame.\n",
      "Try using .loc[row_indexer,col_indexer] = value instead\n",
      "\n",
      "See the caveats in the documentation: http://pandas.pydata.org/pandas-docs/stable/user_guide/indexing.html#returning-a-view-versus-a-copy\n",
      "  from ipykernel import kernelapp as app\n",
      "/Users/flatironschool/opt/anaconda3/lib/python3.7/site-packages/ipykernel_launcher.py:16: SettingWithCopyWarning: \n",
      "A value is trying to be set on a copy of a slice from a DataFrame.\n",
      "Try using .loc[row_indexer,col_indexer] = value instead\n",
      "\n",
      "See the caveats in the documentation: http://pandas.pydata.org/pandas-docs/stable/user_guide/indexing.html#returning-a-view-versus-a-copy\n",
      "  app.launch_new_instance()\n",
      "/Users/flatironschool/opt/anaconda3/lib/python3.7/site-packages/ipykernel_launcher.py:17: SettingWithCopyWarning: \n",
      "A value is trying to be set on a copy of a slice from a DataFrame.\n",
      "Try using .loc[row_indexer,col_indexer] = value instead\n",
      "\n",
      "See the caveats in the documentation: http://pandas.pydata.org/pandas-docs/stable/user_guide/indexing.html#returning-a-view-versus-a-copy\n",
      "/Users/flatironschool/opt/anaconda3/lib/python3.7/site-packages/ipykernel_launcher.py:18: SettingWithCopyWarning: \n",
      "A value is trying to be set on a copy of a slice from a DataFrame.\n",
      "Try using .loc[row_indexer,col_indexer] = value instead\n",
      "\n",
      "See the caveats in the documentation: http://pandas.pydata.org/pandas-docs/stable/user_guide/indexing.html#returning-a-view-versus-a-copy\n",
      "/Users/flatironschool/opt/anaconda3/lib/python3.7/site-packages/ipykernel_launcher.py:19: SettingWithCopyWarning: \n",
      "A value is trying to be set on a copy of a slice from a DataFrame.\n",
      "Try using .loc[row_indexer,col_indexer] = value instead\n",
      "\n",
      "See the caveats in the documentation: http://pandas.pydata.org/pandas-docs/stable/user_guide/indexing.html#returning-a-view-versus-a-copy\n",
      "/Users/flatironschool/opt/anaconda3/lib/python3.7/site-packages/ipykernel_launcher.py:20: SettingWithCopyWarning: \n",
      "A value is trying to be set on a copy of a slice from a DataFrame.\n",
      "Try using .loc[row_indexer,col_indexer] = value instead\n",
      "\n",
      "See the caveats in the documentation: http://pandas.pydata.org/pandas-docs/stable/user_guide/indexing.html#returning-a-view-versus-a-copy\n",
      "/Users/flatironschool/opt/anaconda3/lib/python3.7/site-packages/ipykernel_launcher.py:21: SettingWithCopyWarning: \n",
      "A value is trying to be set on a copy of a slice from a DataFrame.\n",
      "Try using .loc[row_indexer,col_indexer] = value instead\n",
      "\n",
      "See the caveats in the documentation: http://pandas.pydata.org/pandas-docs/stable/user_guide/indexing.html#returning-a-view-versus-a-copy\n",
      "/Users/flatironschool/opt/anaconda3/lib/python3.7/site-packages/ipykernel_launcher.py:22: SettingWithCopyWarning: \n",
      "A value is trying to be set on a copy of a slice from a DataFrame.\n",
      "Try using .loc[row_indexer,col_indexer] = value instead\n",
      "\n",
      "See the caveats in the documentation: http://pandas.pydata.org/pandas-docs/stable/user_guide/indexing.html#returning-a-view-versus-a-copy\n"
     ]
    }
   ],
   "source": [
    "df_35['h1']=df_34['home_player_Y1']\n",
    "df_35['h2']=df_34['home_player_Y2']\n",
    "df_35['h3']=df_34['home_player_Y3']\n",
    "df_35['h4']=df_34['home_player_Y4']\n",
    "df_35['h5']=df_34['home_player_Y5']\n",
    "df_35['h6']=df_34['home_player_Y6']\n",
    "df_35['h7']=df_34['home_player_Y7']\n",
    "df_35['h8']=df_34['home_player_Y8']\n",
    "df_35['h9']=df_34['home_player_Y9']\n",
    "df_35['h10']=df_34['home_player_Y10']\n",
    "df_35['h11']=df_34['home_player_Y11']\n",
    "df_35['a1']=df_34['away_player_Y1']\n",
    "df_35['a2']=df_34['away_player_Y2']\n",
    "df_35['a3']=df_34['away_player_Y3']\n",
    "df_35['a4']=df_34['away_player_Y4']\n",
    "df_35['a5']=df_34['away_player_Y5']\n",
    "df_35['a6']=df_34['away_player_Y6']\n",
    "df_35['a7']=df_34['away_player_Y7']\n",
    "df_35['a8']=df_34['away_player_Y8']\n",
    "df_35['a9']=df_34['away_player_Y9']\n",
    "df_35['a10']=df_34['away_player_Y10']\n",
    "df_35['a11']=df_34['away_player_Y11']"
   ]
  },
  {
   "cell_type": "code",
   "execution_count": 23,
   "metadata": {},
   "outputs": [
    {
     "data": {
      "text/html": [
       "<div>\n",
       "<style scoped>\n",
       "    .dataframe tbody tr th:only-of-type {\n",
       "        vertical-align: middle;\n",
       "    }\n",
       "\n",
       "    .dataframe tbody tr th {\n",
       "        vertical-align: top;\n",
       "    }\n",
       "\n",
       "    .dataframe thead th {\n",
       "        text-align: right;\n",
       "    }\n",
       "</style>\n",
       "<table border=\"1\" class=\"dataframe\">\n",
       "  <thead>\n",
       "    <tr style=\"text-align: right;\">\n",
       "      <th></th>\n",
       "      <th>home_name</th>\n",
       "      <th>away_name</th>\n",
       "      <th>home_team_goal</th>\n",
       "      <th>away_team_goal</th>\n",
       "      <th>h1</th>\n",
       "      <th>h2</th>\n",
       "      <th>h3</th>\n",
       "      <th>h4</th>\n",
       "      <th>h5</th>\n",
       "      <th>h6</th>\n",
       "      <th>...</th>\n",
       "      <th>a2</th>\n",
       "      <th>a3</th>\n",
       "      <th>a4</th>\n",
       "      <th>a5</th>\n",
       "      <th>a6</th>\n",
       "      <th>a7</th>\n",
       "      <th>a8</th>\n",
       "      <th>a9</th>\n",
       "      <th>a10</th>\n",
       "      <th>a11</th>\n",
       "    </tr>\n",
       "  </thead>\n",
       "  <tbody>\n",
       "    <tr>\n",
       "      <td>972</td>\n",
       "      <td>Blackburn Rovers</td>\n",
       "      <td>Wolverhampton Wanderers</td>\n",
       "      <td>1</td>\n",
       "      <td>2</td>\n",
       "      <td>GK</td>\n",
       "      <td>D</td>\n",
       "      <td>D</td>\n",
       "      <td>D</td>\n",
       "      <td>D</td>\n",
       "      <td>M</td>\n",
       "      <td>...</td>\n",
       "      <td>D</td>\n",
       "      <td>D</td>\n",
       "      <td>D</td>\n",
       "      <td>D</td>\n",
       "      <td>M</td>\n",
       "      <td>M</td>\n",
       "      <td>M</td>\n",
       "      <td>M</td>\n",
       "      <td>F</td>\n",
       "      <td>F</td>\n",
       "    </tr>\n",
       "  </tbody>\n",
       "</table>\n",
       "<p>1 rows × 26 columns</p>\n",
       "</div>"
      ],
      "text/plain": [
       "            home_name                away_name  home_team_goal  \\\n",
       "972  Blackburn Rovers  Wolverhampton Wanderers               1   \n",
       "\n",
       "     away_team_goal  h1 h2 h3 h4 h5 h6  ... a2 a3 a4 a5 a6 a7 a8 a9 a10 a11  \n",
       "972               2  GK  D  D  D  D  M  ...  D  D  D  D  M  M  M  M   F   F  \n",
       "\n",
       "[1 rows x 26 columns]"
      ]
     },
     "execution_count": 23,
     "metadata": {},
     "output_type": "execute_result"
    }
   ],
   "source": [
    "df_35.head(1)"
   ]
  },
  {
   "cell_type": "code",
   "execution_count": 24,
   "metadata": {},
   "outputs": [
    {
     "name": "stderr",
     "output_type": "stream",
     "text": [
      "/Users/flatironschool/opt/anaconda3/lib/python3.7/site-packages/ipykernel_launcher.py:1: SettingWithCopyWarning: \n",
      "A value is trying to be set on a copy of a slice from a DataFrame.\n",
      "Try using .loc[row_indexer,col_indexer] = value instead\n",
      "\n",
      "See the caveats in the documentation: http://pandas.pydata.org/pandas-docs/stable/user_guide/indexing.html#returning-a-view-versus-a-copy\n",
      "  \"\"\"Entry point for launching an IPython kernel.\n"
     ]
    },
    {
     "data": {
      "text/html": [
       "<div>\n",
       "<style scoped>\n",
       "    .dataframe tbody tr th:only-of-type {\n",
       "        vertical-align: middle;\n",
       "    }\n",
       "\n",
       "    .dataframe tbody tr th {\n",
       "        vertical-align: top;\n",
       "    }\n",
       "\n",
       "    .dataframe thead th {\n",
       "        text-align: right;\n",
       "    }\n",
       "</style>\n",
       "<table border=\"1\" class=\"dataframe\">\n",
       "  <thead>\n",
       "    <tr style=\"text-align: right;\">\n",
       "      <th></th>\n",
       "      <th>home_name</th>\n",
       "      <th>away_name</th>\n",
       "      <th>home_team_goal</th>\n",
       "      <th>away_team_goal</th>\n",
       "      <th>h1</th>\n",
       "      <th>h2</th>\n",
       "      <th>h3</th>\n",
       "      <th>h4</th>\n",
       "      <th>h5</th>\n",
       "      <th>h6</th>\n",
       "      <th>...</th>\n",
       "      <th>a4</th>\n",
       "      <th>a5</th>\n",
       "      <th>a6</th>\n",
       "      <th>a7</th>\n",
       "      <th>a8</th>\n",
       "      <th>a9</th>\n",
       "      <th>a10</th>\n",
       "      <th>a11</th>\n",
       "      <th>home_form</th>\n",
       "      <th>away_form</th>\n",
       "    </tr>\n",
       "  </thead>\n",
       "  <tbody>\n",
       "    <tr>\n",
       "      <td>972</td>\n",
       "      <td>Blackburn Rovers</td>\n",
       "      <td>Wolverhampton Wanderers</td>\n",
       "      <td>1</td>\n",
       "      <td>2</td>\n",
       "      <td>GK</td>\n",
       "      <td>D</td>\n",
       "      <td>D</td>\n",
       "      <td>D</td>\n",
       "      <td>D</td>\n",
       "      <td>M</td>\n",
       "      <td>...</td>\n",
       "      <td>D</td>\n",
       "      <td>D</td>\n",
       "      <td>M</td>\n",
       "      <td>M</td>\n",
       "      <td>M</td>\n",
       "      <td>M</td>\n",
       "      <td>F</td>\n",
       "      <td>F</td>\n",
       "      <td>None</td>\n",
       "      <td>None</td>\n",
       "    </tr>\n",
       "    <tr>\n",
       "      <td>973</td>\n",
       "      <td>Fulham</td>\n",
       "      <td>Aston Villa</td>\n",
       "      <td>0</td>\n",
       "      <td>0</td>\n",
       "      <td>GK</td>\n",
       "      <td>D</td>\n",
       "      <td>D</td>\n",
       "      <td>D</td>\n",
       "      <td>D</td>\n",
       "      <td>M</td>\n",
       "      <td>...</td>\n",
       "      <td>D</td>\n",
       "      <td>D</td>\n",
       "      <td>M</td>\n",
       "      <td>M</td>\n",
       "      <td>M</td>\n",
       "      <td>M</td>\n",
       "      <td>F</td>\n",
       "      <td>F</td>\n",
       "      <td>None</td>\n",
       "      <td>None</td>\n",
       "    </tr>\n",
       "  </tbody>\n",
       "</table>\n",
       "<p>2 rows × 28 columns</p>\n",
       "</div>"
      ],
      "text/plain": [
       "            home_name                away_name  home_team_goal  \\\n",
       "972  Blackburn Rovers  Wolverhampton Wanderers               1   \n",
       "973            Fulham              Aston Villa               0   \n",
       "\n",
       "     away_team_goal  h1 h2 h3 h4 h5 h6  ... a4 a5 a6 a7 a8 a9 a10 a11  \\\n",
       "972               2  GK  D  D  D  D  M  ...  D  D  M  M  M  M   F   F   \n",
       "973               0  GK  D  D  D  D  M  ...  D  D  M  M  M  M   F   F   \n",
       "\n",
       "    home_form away_form  \n",
       "972      None      None  \n",
       "973      None      None  \n",
       "\n",
       "[2 rows x 28 columns]"
      ]
     },
     "execution_count": 24,
     "metadata": {},
     "output_type": "execute_result"
    }
   ],
   "source": [
    "df_35['home_form']=None\n",
    "df_35['away_form']=None\n",
    "df_35.head(2)"
   ]
  },
  {
   "cell_type": "code",
   "execution_count": 25,
   "metadata": {},
   "outputs": [],
   "source": [
    "#USE TRY-EXCEPT FOR \"FOREIGN FORMATIONS\"\n",
    "formation_dict={('GK','D','D','D','D','M','M','M','F','F','F'):1,('GK','D','D','D','M','M','M','M','M','F','F'):2,\n",
    "                ('GK','D','D','D','M','M','M','A','A','F','F'):3,('GK','D','D','D','M','M','M','M','A','F','F'):4,\n",
    "                ('GK','D','D','D','M','M','A','A','F','F','F'):5,('GK','D','D','D','M','M','M','M','A','A','F'):6,\n",
    "                ('GK','D','D','D','M','M','M','M','F','F','F'):7,('GK','D','D','D','D','M','M','M','M','F','F'):8,\n",
    "                ('GK','D','D','D','D','M','M','M','A','F','F'):9,('GK','D','D','D','D','M','M','M','A','A','F'):10,\n",
    "                ('GK','D','D','D','D','M','M','A','A','F','F'):11,('GK','D','D','D','D','M','M','M','M','A','F'):12,\n",
    "                ('GK','D','D','D','D','M','M','A','A','A','F'):13,('GK','D','D','D','D','M','M','F','F','F','F'):14,\n",
    "                ('GK','D','D','D','D','M','M','A','F','F','F'):15,('GK','D','D','D','D','M','M','M','M','M','F'):16,\n",
    "                ('GK','D','D','D','D','D','M','D','A','F','F'):17,('GK','D','D','D','D','D','M','M','M','M','F'):18,\n",
    "                ('GK','D','D','D','D','D','M','M','M','F','F'):19,('GK','D','D','D','D','D','M','M','F','F','F'):20,\n",
    "                ('GK','D','D','D','D','M','M','M','F','M','F'):21,('GK','D','D','D','D','M','A','M','A','A','F'):21,\n",
    "                ('GK','D','D','D','D','M','A','A','M','A','F'):21,('GK','D','D','D','D','M','M','F','M','M','F'):21,\n",
    "                ('GK','D','D','D','D','A','M','M','A','A','F'):21,('GK','D','D','D','D','M','A','A','A','M','F'):21,\n",
    "                ('GK', 'D', 'D', 'D', 'D', 'M', 'A', 'A', 'A', 'A', 'F'):21,\n",
    "                ('GK', 'D', 'D', 'D', 'D', 'M', 'A', 'A', 'F', 'F', 'F'):21,\n",
    "                ('GK', 'D', 'D', 'D', 'M', 'M', 'M', 'A', 'A', 'A', 'F'):21,\n",
    "                ('GK', 'D', 'D', 'D', 'D', 'A', 'A', 'A', 'M', 'A', 'F'):21,\n",
    "                ('GK', 'D', 'D', 'D', 'D', 'F', 'M', 'M', 'M', 'M', 'F'):21,\n",
    "                ('GK', 'D', 'D', 'D', 'D', 'M', 'M', 'A', 'M', 'A', 'F'):21,\n",
    "                ('GK', 'D', 'D', 'D', 'M', 'M', 'M', 'D', 'A', 'F', 'F'):21,\n",
    "                ('GK', 'D', 'D', 'D', 'D', 'A', 'M', 'A', 'A', 'M', 'F'):21,\n",
    "                ('GK', 'D', 'D', 'D', 'M', 'M', 'M', 'F', 'M', 'F', 'F'):21,\n",
    "                ('GK', 'D', 'D', 'D', 'D', 'M', 'M', 'F', 'M', 'F', 'F'):21,\n",
    "                ('GK', 'D', 'D', 'D', 'D', 'M', 'A', 'A', 'A', 'F', 'F'):21,\n",
    "                ('GK', 'D', 'D', 'D', 'M', 'D', 'M', 'M', 'F', 'F', 'F'):21,\n",
    "                ('GK', 'D', 'D', 'D', 'M', 'M', 'D', 'M', 'M', 'F', 'F'):21,\n",
    "                ('GK', 'D', 'D', 'D', 'M', 'D', 'M', 'F', 'F', 'M', 'F'):21,\n",
    "                ('GK', 'D', 'D', 'D', 'D', 'A', 'A', 'M', 'M', 'A', 'F'):21,\n",
    "                ('GK', 'D', 'D', 'M', 'D', 'D', 'M', 'F', 'M', 'F', 'F'):21,\n",
    "                ('GK', 'D', 'D', 'M', 'D', 'D', 'M', 'M', 'F', 'F', 'F'):21,\n",
    "                ('GK', 'D', 'D', 'D', 'D', 'M', 'M', 'A', 'M', 'F', 'F'):21,\n",
    "                ('GK', 'D', 'D', 'D', 'D', 'A', 'A', 'A', 'A', 'M', 'F'):21,\n",
    "                ('GK', 'D', 'M', 'M', 'D', 'D', 'D', 'M', 'M', 'F', 'F'):21,\n",
    "                ('GK', 'D', 'D', 'D', 'D', 'M', 'F', 'M', 'M', 'F', 'F'):21,\n",
    "                ('GK', 'D', 'D', 'D', 'D', 'A', 'M', 'A', 'A', 'A', 'F'):21,\n",
    "                ('GK', 'D', 'D', 'D', 'D', 'A', 'A', 'M', 'A', 'A', 'F'):21,\n",
    "                ('GK', 'D', 'D', 'D', 'M', 'M', 'M', 'M', 'F', 'M', 'F'):21,\n",
    "                ('GK', 'D', 'D', 'D', 'M', 'M', 'M', 'F', 'F', 'M', 'F'):21}"
   ]
  },
  {
   "cell_type": "code",
   "execution_count": 98,
   "metadata": {},
   "outputs": [],
   "source": [
    "wild_card = [('GK','D','D','D','D','M','M','M','F','M','F'),('GK','D','D','D','D','M','A','M','A','A','F'),\n",
    "                ('GK','D','D','D','D','M','A','A','M','A','F'),('GK','D','D','D','D','M','M','F','M','M','F'),\n",
    "                ('GK','D','D','D','D','A','M','M','A','A','F'),('GK','D','D','D','D','M','A','A','A','M','F'),\n",
    "                ('GK', 'D', 'D', 'D', 'D', 'M', 'A', 'A', 'A', 'A', 'F'),\n",
    "                ('GK', 'D', 'D', 'D', 'D', 'M', 'A', 'A', 'F', 'F', 'F'),\n",
    "                ('GK', 'D', 'D', 'D', 'M', 'M', 'M', 'A', 'A', 'A', 'F'),\n",
    "                ('GK', 'D', 'D', 'D', 'D', 'A', 'A', 'A', 'M', 'A', 'F'),\n",
    "                ('GK', 'D', 'D', 'D', 'D', 'F', 'M', 'M', 'M', 'M', 'F'),\n",
    "                ('GK', 'D', 'D', 'D', 'D', 'M', 'M', 'A', 'M', 'A', 'F'),\n",
    "                ('GK', 'D', 'D', 'D', 'M', 'M', 'M', 'D', 'A', 'F', 'F'),\n",
    "                ('GK', 'D', 'D', 'D', 'D', 'A', 'M', 'A', 'A', 'M', 'F'),\n",
    "                ('GK', 'D', 'D', 'D', 'M', 'M', 'M', 'F', 'M', 'F', 'F'),\n",
    "                ('GK', 'D', 'D', 'D', 'D', 'M', 'M', 'F', 'M', 'F', 'F'),\n",
    "                ('GK', 'D', 'D', 'D', 'D', 'M', 'A', 'A', 'A', 'F', 'F'),\n",
    "                ('GK', 'D', 'D', 'D', 'M', 'D', 'M', 'M', 'F', 'F', 'F'),\n",
    "                ('GK', 'D', 'D', 'D', 'M', 'M', 'D', 'M', 'M', 'F', 'F'),\n",
    "                ('GK', 'D', 'D', 'D', 'M', 'D', 'M', 'F', 'F', 'M', 'F'),\n",
    "                ('GK', 'D', 'D', 'D', 'D', 'A', 'A', 'M', 'M', 'A', 'F'),\n",
    "                ('GK', 'D', 'D', 'M', 'D', 'D', 'M', 'F', 'M', 'F', 'F'),\n",
    "                ('GK', 'D', 'D', 'M', 'D', 'D', 'M', 'M', 'F', 'F', 'F'),\n",
    "                ('GK', 'D', 'D', 'D', 'D', 'M', 'M', 'A', 'M', 'F', 'F'),\n",
    "                ('GK', 'D', 'D', 'D', 'D', 'A', 'A', 'A', 'A', 'M', 'F'),\n",
    "                ('GK', 'D', 'M', 'M', 'D', 'D', 'D', 'M', 'M', 'F', 'F'),\n",
    "                ('GK', 'D', 'D', 'D', 'D', 'M', 'F', 'M', 'M', 'F', 'F'),\n",
    "                ('GK', 'D', 'D', 'D', 'D', 'A', 'M', 'A', 'A', 'A', 'F'),\n",
    "                ('GK', 'D', 'D', 'D', 'D', 'A', 'A', 'M', 'A', 'A', 'F'),\n",
    "                ('GK', 'D', 'D', 'D', 'M', 'M', 'M', 'M', 'F', 'M', 'F'),\n",
    "                ('GK', 'D', 'D', 'D', 'M', 'M', 'M', 'F', 'F', 'M', 'F')]"
   ]
  },
  {
   "cell_type": "code",
   "execution_count": 26,
   "metadata": {},
   "outputs": [
    {
     "data": {
      "text/html": [
       "<div>\n",
       "<style scoped>\n",
       "    .dataframe tbody tr th:only-of-type {\n",
       "        vertical-align: middle;\n",
       "    }\n",
       "\n",
       "    .dataframe tbody tr th {\n",
       "        vertical-align: top;\n",
       "    }\n",
       "\n",
       "    .dataframe thead th {\n",
       "        text-align: right;\n",
       "    }\n",
       "</style>\n",
       "<table border=\"1\" class=\"dataframe\">\n",
       "  <thead>\n",
       "    <tr style=\"text-align: right;\">\n",
       "      <th></th>\n",
       "      <th>home_name</th>\n",
       "      <th>away_name</th>\n",
       "      <th>home_team_goal</th>\n",
       "      <th>away_team_goal</th>\n",
       "      <th>h1</th>\n",
       "      <th>h2</th>\n",
       "      <th>h3</th>\n",
       "      <th>h4</th>\n",
       "      <th>h5</th>\n",
       "      <th>h6</th>\n",
       "      <th>...</th>\n",
       "      <th>a4</th>\n",
       "      <th>a5</th>\n",
       "      <th>a6</th>\n",
       "      <th>a7</th>\n",
       "      <th>a8</th>\n",
       "      <th>a9</th>\n",
       "      <th>a10</th>\n",
       "      <th>a11</th>\n",
       "      <th>home_form</th>\n",
       "      <th>away_form</th>\n",
       "    </tr>\n",
       "  </thead>\n",
       "  <tbody>\n",
       "    <tr>\n",
       "      <td>972</td>\n",
       "      <td>Blackburn Rovers</td>\n",
       "      <td>Wolverhampton Wanderers</td>\n",
       "      <td>1</td>\n",
       "      <td>2</td>\n",
       "      <td>GK</td>\n",
       "      <td>D</td>\n",
       "      <td>D</td>\n",
       "      <td>D</td>\n",
       "      <td>D</td>\n",
       "      <td>M</td>\n",
       "      <td>...</td>\n",
       "      <td>D</td>\n",
       "      <td>D</td>\n",
       "      <td>M</td>\n",
       "      <td>M</td>\n",
       "      <td>M</td>\n",
       "      <td>M</td>\n",
       "      <td>F</td>\n",
       "      <td>F</td>\n",
       "      <td>None</td>\n",
       "      <td>None</td>\n",
       "    </tr>\n",
       "  </tbody>\n",
       "</table>\n",
       "<p>1 rows × 28 columns</p>\n",
       "</div>"
      ],
      "text/plain": [
       "            home_name                away_name  home_team_goal  \\\n",
       "972  Blackburn Rovers  Wolverhampton Wanderers               1   \n",
       "\n",
       "     away_team_goal  h1 h2 h3 h4 h5 h6  ... a4 a5 a6 a7 a8 a9 a10 a11  \\\n",
       "972               2  GK  D  D  D  D  M  ...  D  D  M  M  M  M   F   F   \n",
       "\n",
       "    home_form away_form  \n",
       "972      None      None  \n",
       "\n",
       "[1 rows x 28 columns]"
      ]
     },
     "execution_count": 26,
     "metadata": {},
     "output_type": "execute_result"
    }
   ],
   "source": [
    "df_35.head(1)"
   ]
  },
  {
   "cell_type": "code",
   "execution_count": 27,
   "metadata": {},
   "outputs": [],
   "source": [
    "#df_36 = df_35.applymap()\n",
    "#formation_dict\n",
    "#(df_35.iloc[1:2,4:15])"
   ]
  },
  {
   "cell_type": "code",
   "execution_count": 28,
   "metadata": {},
   "outputs": [],
   "source": [
    "h_list = []\n",
    "a_list = []\n",
    "for value in df_35.index:\n",
    "    h_list.append((df_35.loc[value,'h1'],df_35.loc[value,'h2'],df_35.loc[value,'h3'],df_35.loc[value,'h4'],df_35.loc[value,'h5'],df_35.loc[value,'h6'],df_35.loc[value,'h7'],df_35.loc[value,'h8'],df_35.loc[value,'h9'],df_35.loc[value,'h10'],df_35.loc[value,'h11']))\n",
    "    a_list.append((df_35.loc[value,'a1'],df_35.loc[value,'a2'],df_35.loc[value,'a3'],df_35.loc[value,'a4'],df_35.loc[value,'a5'],df_35.loc[value,'a6'],df_35.loc[value,'a7'],df_35.loc[value,'a8'],df_35.loc[value,'a9'],df_35.loc[value,'a10'],df_35.loc[value,'a11']))\n",
    "    "
   ]
  },
  {
   "cell_type": "code",
   "execution_count": 29,
   "metadata": {},
   "outputs": [],
   "source": [
    "#print(h_list[0],'\\n')\n",
    "#print(a_list[0])"
   ]
  },
  {
   "cell_type": "code",
   "execution_count": 30,
   "metadata": {},
   "outputs": [
    {
     "data": {
      "text/html": [
       "<div>\n",
       "<style scoped>\n",
       "    .dataframe tbody tr th:only-of-type {\n",
       "        vertical-align: middle;\n",
       "    }\n",
       "\n",
       "    .dataframe tbody tr th {\n",
       "        vertical-align: top;\n",
       "    }\n",
       "\n",
       "    .dataframe thead th {\n",
       "        text-align: right;\n",
       "    }\n",
       "</style>\n",
       "<table border=\"1\" class=\"dataframe\">\n",
       "  <thead>\n",
       "    <tr style=\"text-align: right;\">\n",
       "      <th></th>\n",
       "      <th>home_name</th>\n",
       "      <th>away_name</th>\n",
       "      <th>home_team_goal</th>\n",
       "      <th>away_team_goal</th>\n",
       "      <th>h1</th>\n",
       "      <th>h2</th>\n",
       "      <th>h3</th>\n",
       "      <th>h4</th>\n",
       "      <th>h5</th>\n",
       "      <th>h6</th>\n",
       "      <th>...</th>\n",
       "      <th>a4</th>\n",
       "      <th>a5</th>\n",
       "      <th>a6</th>\n",
       "      <th>a7</th>\n",
       "      <th>a8</th>\n",
       "      <th>a9</th>\n",
       "      <th>a10</th>\n",
       "      <th>a11</th>\n",
       "      <th>home_form</th>\n",
       "      <th>away_form</th>\n",
       "    </tr>\n",
       "  </thead>\n",
       "  <tbody>\n",
       "    <tr>\n",
       "      <td>972</td>\n",
       "      <td>Blackburn Rovers</td>\n",
       "      <td>Wolverhampton Wanderers</td>\n",
       "      <td>1</td>\n",
       "      <td>2</td>\n",
       "      <td>GK</td>\n",
       "      <td>D</td>\n",
       "      <td>D</td>\n",
       "      <td>D</td>\n",
       "      <td>D</td>\n",
       "      <td>M</td>\n",
       "      <td>...</td>\n",
       "      <td>D</td>\n",
       "      <td>D</td>\n",
       "      <td>M</td>\n",
       "      <td>M</td>\n",
       "      <td>M</td>\n",
       "      <td>M</td>\n",
       "      <td>F</td>\n",
       "      <td>F</td>\n",
       "      <td>None</td>\n",
       "      <td>None</td>\n",
       "    </tr>\n",
       "  </tbody>\n",
       "</table>\n",
       "<p>1 rows × 28 columns</p>\n",
       "</div>"
      ],
      "text/plain": [
       "            home_name                away_name  home_team_goal  \\\n",
       "972  Blackburn Rovers  Wolverhampton Wanderers               1   \n",
       "\n",
       "     away_team_goal  h1 h2 h3 h4 h5 h6  ... a4 a5 a6 a7 a8 a9 a10 a11  \\\n",
       "972               2  GK  D  D  D  D  M  ...  D  D  M  M  M  M   F   F   \n",
       "\n",
       "    home_form away_form  \n",
       "972      None      None  \n",
       "\n",
       "[1 rows x 28 columns]"
      ]
     },
     "execution_count": 30,
     "metadata": {},
     "output_type": "execute_result"
    }
   ],
   "source": [
    "df_36 = df_35.copy()\n",
    "df_36.head(1)"
   ]
  },
  {
   "cell_type": "code",
   "execution_count": 37,
   "metadata": {},
   "outputs": [],
   "source": [
    "for i in range(len(h_list)):\n",
    "    df_36['home_form'][i]=h_list[i]\n",
    "for i in range(len(a_list)):\n",
    "    df_36['away_form'][i]=a_list[i]"
   ]
  },
  {
   "cell_type": "code",
   "execution_count": 38,
   "metadata": {},
   "outputs": [],
   "source": [
    "df_37=df_36[['home_name','away_name','home_team_goal','away_team_goal','home_form','away_form']]"
   ]
  },
  {
   "cell_type": "code",
   "execution_count": 39,
   "metadata": {},
   "outputs": [
    {
     "data": {
      "text/html": [
       "<div>\n",
       "<style scoped>\n",
       "    .dataframe tbody tr th:only-of-type {\n",
       "        vertical-align: middle;\n",
       "    }\n",
       "\n",
       "    .dataframe tbody tr th {\n",
       "        vertical-align: top;\n",
       "    }\n",
       "\n",
       "    .dataframe thead th {\n",
       "        text-align: right;\n",
       "    }\n",
       "</style>\n",
       "<table border=\"1\" class=\"dataframe\">\n",
       "  <thead>\n",
       "    <tr style=\"text-align: right;\">\n",
       "      <th></th>\n",
       "      <th>home_name</th>\n",
       "      <th>away_name</th>\n",
       "      <th>home_team_goal</th>\n",
       "      <th>away_team_goal</th>\n",
       "      <th>home_form</th>\n",
       "      <th>away_form</th>\n",
       "    </tr>\n",
       "  </thead>\n",
       "  <tbody>\n",
       "    <tr>\n",
       "      <td>972</td>\n",
       "      <td>Blackburn Rovers</td>\n",
       "      <td>Wolverhampton Wanderers</td>\n",
       "      <td>1</td>\n",
       "      <td>2</td>\n",
       "      <td>None</td>\n",
       "      <td>None</td>\n",
       "    </tr>\n",
       "  </tbody>\n",
       "</table>\n",
       "</div>"
      ],
      "text/plain": [
       "            home_name                away_name  home_team_goal  \\\n",
       "972  Blackburn Rovers  Wolverhampton Wanderers               1   \n",
       "\n",
       "     away_team_goal home_form away_form  \n",
       "972               2      None      None  "
      ]
     },
     "execution_count": 39,
     "metadata": {},
     "output_type": "execute_result"
    }
   ],
   "source": [
    "df_37.head(1)"
   ]
  },
  {
   "cell_type": "code",
   "execution_count": 59,
   "metadata": {},
   "outputs": [
    {
     "data": {
      "text/html": [
       "<div>\n",
       "<style scoped>\n",
       "    .dataframe tbody tr th:only-of-type {\n",
       "        vertical-align: middle;\n",
       "    }\n",
       "\n",
       "    .dataframe tbody tr th {\n",
       "        vertical-align: top;\n",
       "    }\n",
       "\n",
       "    .dataframe thead th {\n",
       "        text-align: right;\n",
       "    }\n",
       "</style>\n",
       "<table border=\"1\" class=\"dataframe\">\n",
       "  <thead>\n",
       "    <tr style=\"text-align: right;\">\n",
       "      <th></th>\n",
       "      <th>home_form</th>\n",
       "      <th>away_form</th>\n",
       "    </tr>\n",
       "  </thead>\n",
       "  <tbody>\n",
       "    <tr>\n",
       "      <td>972</td>\n",
       "      <td>(GK, D, D, D, D, M, M, A, A, A, F)</td>\n",
       "      <td>(GK, D, D, D, D, M, M, A, A, A, F)</td>\n",
       "    </tr>\n",
       "    <tr>\n",
       "      <td>973</td>\n",
       "      <td>(GK, D, D, D, D, M, M, A, A, A, F)</td>\n",
       "      <td>(GK, D, D, D, D, M, M, A, A, A, F)</td>\n",
       "    </tr>\n",
       "    <tr>\n",
       "      <td>974</td>\n",
       "      <td>(GK, D, D, D, D, M, M, M, A, F, F)</td>\n",
       "      <td>(GK, D, D, D, M, M, M, M, F, F, F)</td>\n",
       "    </tr>\n",
       "    <tr>\n",
       "      <td>975</td>\n",
       "      <td>(GK, D, D, D, D, M, M, A, A, A, F)</td>\n",
       "      <td>(GK, D, D, D, D, D, M, M, M, F, F)</td>\n",
       "    </tr>\n",
       "    <tr>\n",
       "      <td>976</td>\n",
       "      <td>(GK, D, D, D, D, M, M, A, A, A, F)</td>\n",
       "      <td>(GK, D, D, D, D, M, M, A, A, A, F)</td>\n",
       "    </tr>\n",
       "  </tbody>\n",
       "</table>\n",
       "</div>"
      ],
      "text/plain": [
       "                              home_form                           away_form\n",
       "972  (GK, D, D, D, D, M, M, A, A, A, F)  (GK, D, D, D, D, M, M, A, A, A, F)\n",
       "973  (GK, D, D, D, D, M, M, A, A, A, F)  (GK, D, D, D, D, M, M, A, A, A, F)\n",
       "974  (GK, D, D, D, D, M, M, M, A, F, F)  (GK, D, D, D, M, M, M, M, F, F, F)\n",
       "975  (GK, D, D, D, D, M, M, A, A, A, F)  (GK, D, D, D, D, D, M, M, M, F, F)\n",
       "976  (GK, D, D, D, D, M, M, A, A, A, F)  (GK, D, D, D, D, M, M, A, A, A, F)"
      ]
     },
     "execution_count": 59,
     "metadata": {},
     "output_type": "execute_result"
    }
   ],
   "source": [
    "df_38 = pd.DataFrame()\n",
    "df_38['home_form']=df_36['home_form']\n",
    "df_38['away_form']=df_36['away_form']\n",
    "df_38.head()"
   ]
  },
  {
   "cell_type": "code",
   "execution_count": 60,
   "metadata": {},
   "outputs": [
    {
     "data": {
      "text/html": [
       "<div>\n",
       "<style scoped>\n",
       "    .dataframe tbody tr th:only-of-type {\n",
       "        vertical-align: middle;\n",
       "    }\n",
       "\n",
       "    .dataframe tbody tr th {\n",
       "        vertical-align: top;\n",
       "    }\n",
       "\n",
       "    .dataframe thead th {\n",
       "        text-align: right;\n",
       "    }\n",
       "</style>\n",
       "<table border=\"1\" class=\"dataframe\">\n",
       "  <thead>\n",
       "    <tr style=\"text-align: right;\">\n",
       "      <th></th>\n",
       "      <th>home_form</th>\n",
       "      <th>away_form</th>\n",
       "    </tr>\n",
       "  </thead>\n",
       "  <tbody>\n",
       "    <tr>\n",
       "      <td>972</td>\n",
       "      <td>(GK, D, D, D, D, M, M, A, A, A, F)</td>\n",
       "      <td>(GK, D, D, D, D, M, M, A, A, A, F)</td>\n",
       "    </tr>\n",
       "  </tbody>\n",
       "</table>\n",
       "</div>"
      ],
      "text/plain": [
       "                              home_form                           away_form\n",
       "972  (GK, D, D, D, D, M, M, A, A, A, F)  (GK, D, D, D, D, M, M, A, A, A, F)"
      ]
     },
     "execution_count": 60,
     "metadata": {},
     "output_type": "execute_result"
    }
   ],
   "source": [
    "df_38.head(1)"
   ]
  },
  {
   "cell_type": "code",
   "execution_count": 66,
   "metadata": {},
   "outputs": [
    {
     "name": "stdout",
     "output_type": "stream",
     "text": [
      "<class 'pandas.core.frame.DataFrame'>\n",
      "Int64Index: 2872 entries, 972 to 971\n",
      "Data columns (total 2 columns):\n",
      "home_form    1900 non-null object\n",
      "away_form    1900 non-null object\n",
      "dtypes: object(2)\n",
      "memory usage: 67.3+ KB\n"
     ]
    }
   ],
   "source": [
    "# 21 is our wild card\n",
    "df_38.info()"
   ]
  },
  {
   "cell_type": "code",
   "execution_count": 74,
   "metadata": {},
   "outputs": [],
   "source": [
    "#dictionary hard to implement - unclear why\n",
    "#df_39 = df_38.applymap(lambda x: formation_dict[x])\n",
    "#df_39.head(1)"
   ]
  },
  {
   "cell_type": "code",
   "execution_count": null,
   "metadata": {},
   "outputs": [],
   "source": []
  },
  {
   "cell_type": "code",
   "execution_count": 75,
   "metadata": {},
   "outputs": [],
   "source": [
    "df_40=df_37[['home_name','away_name','home_team_goal','away_team_goal']]"
   ]
  },
  {
   "cell_type": "code",
   "execution_count": 76,
   "metadata": {},
   "outputs": [
    {
     "name": "stderr",
     "output_type": "stream",
     "text": [
      "/Users/flatironschool/opt/anaconda3/lib/python3.7/site-packages/ipykernel_launcher.py:1: SettingWithCopyWarning: \n",
      "A value is trying to be set on a copy of a slice from a DataFrame.\n",
      "Try using .loc[row_indexer,col_indexer] = value instead\n",
      "\n",
      "See the caveats in the documentation: http://pandas.pydata.org/pandas-docs/stable/user_guide/indexing.html#returning-a-view-versus-a-copy\n",
      "  \"\"\"Entry point for launching an IPython kernel.\n"
     ]
    }
   ],
   "source": [
    "df_40['home_form']=df_38['home_form']\n",
    "df_40['away_form']=df_38['away_form']"
   ]
  },
  {
   "cell_type": "code",
   "execution_count": 77,
   "metadata": {},
   "outputs": [
    {
     "data": {
      "text/html": [
       "<div>\n",
       "<style scoped>\n",
       "    .dataframe tbody tr th:only-of-type {\n",
       "        vertical-align: middle;\n",
       "    }\n",
       "\n",
       "    .dataframe tbody tr th {\n",
       "        vertical-align: top;\n",
       "    }\n",
       "\n",
       "    .dataframe thead th {\n",
       "        text-align: right;\n",
       "    }\n",
       "</style>\n",
       "<table border=\"1\" class=\"dataframe\">\n",
       "  <thead>\n",
       "    <tr style=\"text-align: right;\">\n",
       "      <th></th>\n",
       "      <th>home_name</th>\n",
       "      <th>away_name</th>\n",
       "      <th>home_team_goal</th>\n",
       "      <th>away_team_goal</th>\n",
       "      <th>home_form</th>\n",
       "      <th>away_form</th>\n",
       "    </tr>\n",
       "  </thead>\n",
       "  <tbody>\n",
       "    <tr>\n",
       "      <td>972</td>\n",
       "      <td>Blackburn Rovers</td>\n",
       "      <td>Wolverhampton Wanderers</td>\n",
       "      <td>1</td>\n",
       "      <td>2</td>\n",
       "      <td>(GK, D, D, D, D, M, M, A, A, A, F)</td>\n",
       "      <td>(GK, D, D, D, D, M, M, A, A, A, F)</td>\n",
       "    </tr>\n",
       "    <tr>\n",
       "      <td>973</td>\n",
       "      <td>Fulham</td>\n",
       "      <td>Aston Villa</td>\n",
       "      <td>0</td>\n",
       "      <td>0</td>\n",
       "      <td>(GK, D, D, D, D, M, M, A, A, A, F)</td>\n",
       "      <td>(GK, D, D, D, D, M, M, A, A, A, F)</td>\n",
       "    </tr>\n",
       "    <tr>\n",
       "      <td>974</td>\n",
       "      <td>Liverpool</td>\n",
       "      <td>Sunderland</td>\n",
       "      <td>1</td>\n",
       "      <td>1</td>\n",
       "      <td>(GK, D, D, D, D, M, M, M, A, F, F)</td>\n",
       "      <td>(GK, D, D, D, M, M, M, M, F, F, F)</td>\n",
       "    </tr>\n",
       "    <tr>\n",
       "      <td>975</td>\n",
       "      <td>Manchester City</td>\n",
       "      <td>Swansea City</td>\n",
       "      <td>4</td>\n",
       "      <td>0</td>\n",
       "      <td>(GK, D, D, D, D, M, M, A, A, A, F)</td>\n",
       "      <td>(GK, D, D, D, D, D, M, M, M, F, F)</td>\n",
       "    </tr>\n",
       "    <tr>\n",
       "      <td>976</td>\n",
       "      <td>Newcastle United</td>\n",
       "      <td>Arsenal</td>\n",
       "      <td>0</td>\n",
       "      <td>0</td>\n",
       "      <td>(GK, D, D, D, D, M, M, A, A, A, F)</td>\n",
       "      <td>(GK, D, D, D, D, M, M, A, A, A, F)</td>\n",
       "    </tr>\n",
       "  </tbody>\n",
       "</table>\n",
       "</div>"
      ],
      "text/plain": [
       "            home_name                away_name  home_team_goal  \\\n",
       "972  Blackburn Rovers  Wolverhampton Wanderers               1   \n",
       "973            Fulham              Aston Villa               0   \n",
       "974         Liverpool               Sunderland               1   \n",
       "975   Manchester City             Swansea City               4   \n",
       "976  Newcastle United                  Arsenal               0   \n",
       "\n",
       "     away_team_goal                           home_form  \\\n",
       "972               2  (GK, D, D, D, D, M, M, A, A, A, F)   \n",
       "973               0  (GK, D, D, D, D, M, M, A, A, A, F)   \n",
       "974               1  (GK, D, D, D, D, M, M, M, A, F, F)   \n",
       "975               0  (GK, D, D, D, D, M, M, A, A, A, F)   \n",
       "976               0  (GK, D, D, D, D, M, M, A, A, A, F)   \n",
       "\n",
       "                              away_form  \n",
       "972  (GK, D, D, D, D, M, M, A, A, A, F)  \n",
       "973  (GK, D, D, D, D, M, M, A, A, A, F)  \n",
       "974  (GK, D, D, D, M, M, M, M, F, F, F)  \n",
       "975  (GK, D, D, D, D, D, M, M, M, F, F)  \n",
       "976  (GK, D, D, D, D, M, M, A, A, A, F)  "
      ]
     },
     "execution_count": 77,
     "metadata": {},
     "output_type": "execute_result"
    }
   ],
   "source": [
    "df_40.head()"
   ]
  },
  {
   "cell_type": "code",
   "execution_count": 88,
   "metadata": {},
   "outputs": [],
   "source": [
    "#df_40['win_team']=None\n",
    "#df_40.head(1)"
   ]
  },
  {
   "cell_type": "code",
   "execution_count": 86,
   "metadata": {},
   "outputs": [
    {
     "name": "stderr",
     "output_type": "stream",
     "text": [
      "/Users/flatironschool/opt/anaconda3/lib/python3.7/site-packages/ipykernel_launcher.py:7: SettingWithCopyWarning: \n",
      "A value is trying to be set on a copy of a slice from a DataFrame\n",
      "\n",
      "See the caveats in the documentation: http://pandas.pydata.org/pandas-docs/stable/user_guide/indexing.html#returning-a-view-versus-a-copy\n",
      "  import sys\n",
      "/Users/flatironschool/opt/anaconda3/lib/python3.7/site-packages/ipykernel_launcher.py:5: SettingWithCopyWarning: \n",
      "A value is trying to be set on a copy of a slice from a DataFrame\n",
      "\n",
      "See the caveats in the documentation: http://pandas.pydata.org/pandas-docs/stable/user_guide/indexing.html#returning-a-view-versus-a-copy\n",
      "  \"\"\"\n",
      "/Users/flatironschool/opt/anaconda3/lib/python3.7/site-packages/ipykernel_launcher.py:3: SettingWithCopyWarning: \n",
      "A value is trying to be set on a copy of a slice from a DataFrame\n",
      "\n",
      "See the caveats in the documentation: http://pandas.pydata.org/pandas-docs/stable/user_guide/indexing.html#returning-a-view-versus-a-copy\n",
      "  This is separate from the ipykernel package so we can avoid doing imports until\n"
     ]
    }
   ],
   "source": [
    "#use .index as opposed to range\n",
    "for i in df_40.index:\n",
    "    if df_40['home_team_goal'][i]>df_40['away_team_goal'][i]:\n",
    "        df_40['win_team'][i]=df_40['home_name'][i]\n",
    "    elif df_40['home_team_goal'][i]==df_40['away_team_goal'][i]:\n",
    "        df_40['win_team'][i]='draw'\n",
    "    else:\n",
    "        df_40['win_team'][i]=df_40['away_name'][i]\n",
    "\n"
   ]
  },
  {
   "cell_type": "code",
   "execution_count": 87,
   "metadata": {},
   "outputs": [
    {
     "data": {
      "text/html": [
       "<div>\n",
       "<style scoped>\n",
       "    .dataframe tbody tr th:only-of-type {\n",
       "        vertical-align: middle;\n",
       "    }\n",
       "\n",
       "    .dataframe tbody tr th {\n",
       "        vertical-align: top;\n",
       "    }\n",
       "\n",
       "    .dataframe thead th {\n",
       "        text-align: right;\n",
       "    }\n",
       "</style>\n",
       "<table border=\"1\" class=\"dataframe\">\n",
       "  <thead>\n",
       "    <tr style=\"text-align: right;\">\n",
       "      <th></th>\n",
       "      <th>home_name</th>\n",
       "      <th>away_name</th>\n",
       "      <th>home_team_goal</th>\n",
       "      <th>away_team_goal</th>\n",
       "      <th>home_form</th>\n",
       "      <th>away_form</th>\n",
       "      <th>win_team</th>\n",
       "    </tr>\n",
       "  </thead>\n",
       "  <tbody>\n",
       "    <tr>\n",
       "      <td>972</td>\n",
       "      <td>Blackburn Rovers</td>\n",
       "      <td>Wolverhampton Wanderers</td>\n",
       "      <td>1</td>\n",
       "      <td>2</td>\n",
       "      <td>(GK, D, D, D, D, M, M, A, A, A, F)</td>\n",
       "      <td>(GK, D, D, D, D, M, M, A, A, A, F)</td>\n",
       "      <td>Wolverhampton Wanderers</td>\n",
       "    </tr>\n",
       "  </tbody>\n",
       "</table>\n",
       "</div>"
      ],
      "text/plain": [
       "            home_name                away_name  home_team_goal  \\\n",
       "972  Blackburn Rovers  Wolverhampton Wanderers               1   \n",
       "\n",
       "     away_team_goal                           home_form  \\\n",
       "972               2  (GK, D, D, D, D, M, M, A, A, A, F)   \n",
       "\n",
       "                              away_form                 win_team  \n",
       "972  (GK, D, D, D, D, M, M, A, A, A, F)  Wolverhampton Wanderers  "
      ]
     },
     "execution_count": 87,
     "metadata": {},
     "output_type": "execute_result"
    }
   ],
   "source": [
    "df_40.head(1)"
   ]
  },
  {
   "cell_type": "code",
   "execution_count": 89,
   "metadata": {},
   "outputs": [],
   "source": [
    "#df_40['win_form']=None\n",
    "#df_40['lose_form']=None"
   ]
  },
  {
   "cell_type": "code",
   "execution_count": 91,
   "metadata": {},
   "outputs": [
    {
     "name": "stderr",
     "output_type": "stream",
     "text": [
      "/Users/flatironschool/opt/anaconda3/lib/python3.7/site-packages/ipykernel_launcher.py:6: SettingWithCopyWarning: \n",
      "A value is trying to be set on a copy of a slice from a DataFrame\n",
      "\n",
      "See the caveats in the documentation: http://pandas.pydata.org/pandas-docs/stable/user_guide/indexing.html#returning-a-view-versus-a-copy\n",
      "  \n",
      "/Users/flatironschool/opt/anaconda3/lib/python3.7/site-packages/ipykernel_launcher.py:7: SettingWithCopyWarning: \n",
      "A value is trying to be set on a copy of a slice from a DataFrame\n",
      "\n",
      "See the caveats in the documentation: http://pandas.pydata.org/pandas-docs/stable/user_guide/indexing.html#returning-a-view-versus-a-copy\n",
      "  import sys\n",
      "/Users/flatironschool/opt/anaconda3/lib/python3.7/site-packages/ipykernel_launcher.py:9: SettingWithCopyWarning: \n",
      "A value is trying to be set on a copy of a slice from a DataFrame\n",
      "\n",
      "See the caveats in the documentation: http://pandas.pydata.org/pandas-docs/stable/user_guide/indexing.html#returning-a-view-versus-a-copy\n",
      "  if __name__ == '__main__':\n",
      "/Users/flatironschool/opt/anaconda3/lib/python3.7/site-packages/ipykernel_launcher.py:10: SettingWithCopyWarning: \n",
      "A value is trying to be set on a copy of a slice from a DataFrame\n",
      "\n",
      "See the caveats in the documentation: http://pandas.pydata.org/pandas-docs/stable/user_guide/indexing.html#returning-a-view-versus-a-copy\n",
      "  # Remove the CWD from sys.path while we load stuff.\n",
      "/Users/flatironschool/opt/anaconda3/lib/python3.7/site-packages/ipykernel_launcher.py:3: SettingWithCopyWarning: \n",
      "A value is trying to be set on a copy of a slice from a DataFrame\n",
      "\n",
      "See the caveats in the documentation: http://pandas.pydata.org/pandas-docs/stable/user_guide/indexing.html#returning-a-view-versus-a-copy\n",
      "  This is separate from the ipykernel package so we can avoid doing imports until\n",
      "/Users/flatironschool/opt/anaconda3/lib/python3.7/site-packages/ipykernel_launcher.py:4: SettingWithCopyWarning: \n",
      "A value is trying to be set on a copy of a slice from a DataFrame\n",
      "\n",
      "See the caveats in the documentation: http://pandas.pydata.org/pandas-docs/stable/user_guide/indexing.html#returning-a-view-versus-a-copy\n",
      "  after removing the cwd from sys.path.\n"
     ]
    }
   ],
   "source": [
    "for i in df_40.index:\n",
    "    if (df_40['win_team'][i]==df_40['home_name'][i]):\n",
    "        df_40['win_form'][i]=df_40['home_form'][i]\n",
    "        df_40['lose_form'][i]=df_40['away_form'][i]\n",
    "    elif df_40['win_team'][i]==df_40['away_name'][i]:\n",
    "        df_40['win_form'][i]=df_40['away_form'][i]\n",
    "        df_40['lose_form'][i]=df_40['home_form'][i]\n",
    "    elif (df_40['win_team'][i]=='draw'):\n",
    "        df_40['win_form'][i]='draw'\n",
    "        df_40['lose_form'][i]='draw'"
   ]
  },
  {
   "cell_type": "code",
   "execution_count": 92,
   "metadata": {},
   "outputs": [
    {
     "data": {
      "text/html": [
       "<div>\n",
       "<style scoped>\n",
       "    .dataframe tbody tr th:only-of-type {\n",
       "        vertical-align: middle;\n",
       "    }\n",
       "\n",
       "    .dataframe tbody tr th {\n",
       "        vertical-align: top;\n",
       "    }\n",
       "\n",
       "    .dataframe thead th {\n",
       "        text-align: right;\n",
       "    }\n",
       "</style>\n",
       "<table border=\"1\" class=\"dataframe\">\n",
       "  <thead>\n",
       "    <tr style=\"text-align: right;\">\n",
       "      <th></th>\n",
       "      <th>home_name</th>\n",
       "      <th>away_name</th>\n",
       "      <th>home_team_goal</th>\n",
       "      <th>away_team_goal</th>\n",
       "      <th>home_form</th>\n",
       "      <th>away_form</th>\n",
       "      <th>win_team</th>\n",
       "      <th>win_form</th>\n",
       "      <th>lose_form</th>\n",
       "    </tr>\n",
       "  </thead>\n",
       "  <tbody>\n",
       "    <tr>\n",
       "      <td>972</td>\n",
       "      <td>Blackburn Rovers</td>\n",
       "      <td>Wolverhampton Wanderers</td>\n",
       "      <td>1</td>\n",
       "      <td>2</td>\n",
       "      <td>(GK, D, D, D, D, M, M, A, A, A, F)</td>\n",
       "      <td>(GK, D, D, D, D, M, M, A, A, A, F)</td>\n",
       "      <td>Wolverhampton Wanderers</td>\n",
       "      <td>(GK, D, D, D, D, M, M, A, A, A, F)</td>\n",
       "      <td>(GK, D, D, D, D, M, M, A, A, A, F)</td>\n",
       "    </tr>\n",
       "    <tr>\n",
       "      <td>973</td>\n",
       "      <td>Fulham</td>\n",
       "      <td>Aston Villa</td>\n",
       "      <td>0</td>\n",
       "      <td>0</td>\n",
       "      <td>(GK, D, D, D, D, M, M, A, A, A, F)</td>\n",
       "      <td>(GK, D, D, D, D, M, M, A, A, A, F)</td>\n",
       "      <td>draw</td>\n",
       "      <td>draw</td>\n",
       "      <td>draw</td>\n",
       "    </tr>\n",
       "  </tbody>\n",
       "</table>\n",
       "</div>"
      ],
      "text/plain": [
       "            home_name                away_name  home_team_goal  \\\n",
       "972  Blackburn Rovers  Wolverhampton Wanderers               1   \n",
       "973            Fulham              Aston Villa               0   \n",
       "\n",
       "     away_team_goal                           home_form  \\\n",
       "972               2  (GK, D, D, D, D, M, M, A, A, A, F)   \n",
       "973               0  (GK, D, D, D, D, M, M, A, A, A, F)   \n",
       "\n",
       "                              away_form                 win_team  \\\n",
       "972  (GK, D, D, D, D, M, M, A, A, A, F)  Wolverhampton Wanderers   \n",
       "973  (GK, D, D, D, D, M, M, A, A, A, F)                     draw   \n",
       "\n",
       "                               win_form                           lose_form  \n",
       "972  (GK, D, D, D, D, M, M, A, A, A, F)  (GK, D, D, D, D, M, M, A, A, A, F)  \n",
       "973                                draw                                draw  "
      ]
     },
     "execution_count": 92,
     "metadata": {},
     "output_type": "execute_result"
    }
   ],
   "source": [
    "df_40.head(2)"
   ]
  },
  {
   "cell_type": "code",
   "execution_count": 116,
   "metadata": {},
   "outputs": [
    {
     "data": {
      "text/html": [
       "<div>\n",
       "<style scoped>\n",
       "    .dataframe tbody tr th:only-of-type {\n",
       "        vertical-align: middle;\n",
       "    }\n",
       "\n",
       "    .dataframe tbody tr th {\n",
       "        vertical-align: top;\n",
       "    }\n",
       "\n",
       "    .dataframe thead th {\n",
       "        text-align: right;\n",
       "    }\n",
       "</style>\n",
       "<table border=\"1\" class=\"dataframe\">\n",
       "  <thead>\n",
       "    <tr style=\"text-align: right;\">\n",
       "      <th></th>\n",
       "      <th>home_name</th>\n",
       "      <th>away_name</th>\n",
       "      <th>home_team_goal</th>\n",
       "      <th>away_team_goal</th>\n",
       "      <th>home_form</th>\n",
       "      <th>away_form</th>\n",
       "      <th>win_team</th>\n",
       "      <th>win_form</th>\n",
       "      <th>lose_form</th>\n",
       "    </tr>\n",
       "  </thead>\n",
       "  <tbody>\n",
       "    <tr>\n",
       "      <td>972</td>\n",
       "      <td>Blackburn Rovers</td>\n",
       "      <td>Wolverhampton Wanderers</td>\n",
       "      <td>1</td>\n",
       "      <td>2</td>\n",
       "      <td>(GK, D, D, D, D, M, M, A, A, A, F)</td>\n",
       "      <td>(GK, D, D, D, D, M, M, A, A, A, F)</td>\n",
       "      <td>Wolverhampton Wanderers</td>\n",
       "      <td>(GK, D, D, D, D, M, M, A, A, A, F)</td>\n",
       "      <td>(GK, D, D, D, D, M, M, A, A, A, F)</td>\n",
       "    </tr>\n",
       "    <tr>\n",
       "      <td>975</td>\n",
       "      <td>Manchester City</td>\n",
       "      <td>Swansea City</td>\n",
       "      <td>4</td>\n",
       "      <td>0</td>\n",
       "      <td>(GK, D, D, D, D, M, M, A, A, A, F)</td>\n",
       "      <td>(GK, D, D, D, D, D, M, M, M, F, F)</td>\n",
       "      <td>Manchester City</td>\n",
       "      <td>(GK, D, D, D, D, M, M, A, A, A, F)</td>\n",
       "      <td>(GK, D, D, D, D, D, M, M, M, F, F)</td>\n",
       "    </tr>\n",
       "  </tbody>\n",
       "</table>\n",
       "</div>"
      ],
      "text/plain": [
       "            home_name                away_name  home_team_goal  \\\n",
       "972  Blackburn Rovers  Wolverhampton Wanderers               1   \n",
       "975   Manchester City             Swansea City               4   \n",
       "\n",
       "     away_team_goal                           home_form  \\\n",
       "972               2  (GK, D, D, D, D, M, M, A, A, A, F)   \n",
       "975               0  (GK, D, D, D, D, M, M, A, A, A, F)   \n",
       "\n",
       "                              away_form                 win_team  \\\n",
       "972  (GK, D, D, D, D, M, M, A, A, A, F)  Wolverhampton Wanderers   \n",
       "975  (GK, D, D, D, D, D, M, M, M, F, F)          Manchester City   \n",
       "\n",
       "                               win_form                           lose_form  \n",
       "972  (GK, D, D, D, D, M, M, A, A, A, F)  (GK, D, D, D, D, M, M, A, A, A, F)  \n",
       "975  (GK, D, D, D, D, M, M, A, A, A, F)  (GK, D, D, D, D, D, M, M, M, F, F)  "
      ]
     },
     "execution_count": 116,
     "metadata": {},
     "output_type": "execute_result"
    }
   ],
   "source": [
    "#df_no_draw = df_40[df_40['win_team']!='draw']\n",
    "#also filtering out formation 21\n",
    "#df_nd21=df_no_draw[(df_no_draw['win_form']!=21)&(df_no_draw['lose_form'] not in wild_card)]\n",
    "df_no_draw.head(2)"
   ]
  },
  {
   "cell_type": "code",
   "execution_count": 237,
   "metadata": {},
   "outputs": [],
   "source": [
    "#(df_no_draw.win_form.value_counts())"
   ]
  },
  {
   "cell_type": "code",
   "execution_count": 235,
   "metadata": {},
   "outputs": [],
   "source": [
    "#df_no_draw.lose_form.value_counts()"
   ]
  },
  {
   "cell_type": "code",
   "execution_count": 123,
   "metadata": {},
   "outputs": [],
   "source": [
    "lose_dict = {'4231':323,'442':141,'433':79,'4141':27,'352':24,'343':21,'451':12,'4312':11}\n",
    "win_dict = {'4231':340,'442':163,'433':71,'4141':34,'352':19,'343':17,'451':11}"
   ]
  },
  {
   "cell_type": "code",
   "execution_count": 124,
   "metadata": {},
   "outputs": [
    {
     "name": "stdout",
     "output_type": "stream",
     "text": [
      "{'4231': 340, '442': 163, '433': 71, '4141': 34, '352': 19, '343': 17, '451': 11}\n"
     ]
    }
   ],
   "source": [
    "print(win_dict)"
   ]
  },
  {
   "cell_type": "code",
   "execution_count": 125,
   "metadata": {},
   "outputs": [
    {
     "name": "stdout",
     "output_type": "stream",
     "text": [
      "{'4231': 323, '442': 141, '433': 79, '4141': 27, '352': 24, '343': 21, '451': 12, '4312': 11}\n"
     ]
    }
   ],
   "source": [
    "print(lose_dict)"
   ]
  },
  {
   "cell_type": "code",
   "execution_count": 253,
   "metadata": {},
   "outputs": [
    {
     "name": "stdout",
     "output_type": "stream",
     "text": [
      "0.49997274009033105\n"
     ]
    },
    {
     "data": {
      "text/html": [
       "<div>\n",
       "<style scoped>\n",
       "    .dataframe tbody tr th:only-of-type {\n",
       "        vertical-align: middle;\n",
       "    }\n",
       "\n",
       "    .dataframe tbody tr th {\n",
       "        vertical-align: top;\n",
       "    }\n",
       "\n",
       "    .dataframe thead th {\n",
       "        text-align: right;\n",
       "    }\n",
       "</style>\n",
       "<table border=\"1\" class=\"dataframe\">\n",
       "  <thead>\n",
       "    <tr style=\"text-align: right;\">\n",
       "      <th></th>\n",
       "      <th>formation</th>\n",
       "      <th>win_percent</th>\n",
       "    </tr>\n",
       "  </thead>\n",
       "  <tbody>\n",
       "    <tr>\n",
       "      <td>0</td>\n",
       "      <td>4231</td>\n",
       "      <td>0.512821</td>\n",
       "    </tr>\n",
       "    <tr>\n",
       "      <td>1</td>\n",
       "      <td>442</td>\n",
       "      <td>0.536184</td>\n",
       "    </tr>\n",
       "    <tr>\n",
       "      <td>2</td>\n",
       "      <td>433</td>\n",
       "      <td>0.473333</td>\n",
       "    </tr>\n",
       "    <tr>\n",
       "      <td>3</td>\n",
       "      <td>4141</td>\n",
       "      <td>0.557377</td>\n",
       "    </tr>\n",
       "    <tr>\n",
       "      <td>4</td>\n",
       "      <td>352</td>\n",
       "      <td>0.441860</td>\n",
       "    </tr>\n",
       "    <tr>\n",
       "      <td>5</td>\n",
       "      <td>451</td>\n",
       "      <td>0.478261</td>\n",
       "    </tr>\n",
       "  </tbody>\n",
       "</table>\n",
       "</div>"
      ],
      "text/plain": [
       "  formation  win_percent\n",
       "0      4231     0.512821\n",
       "1       442     0.536184\n",
       "2       433     0.473333\n",
       "3      4141     0.557377\n",
       "4       352     0.441860\n",
       "5       451     0.478261"
      ]
     },
     "execution_count": 253,
     "metadata": {},
     "output_type": "execute_result"
    }
   ],
   "source": [
    "form_win_dict={'4231':340/663,'442':163/304,'433':71/150,'4141':34/61,'352':19/43,'451':11/23}\n",
    "formation_win_list = list(form_win_dict.keys())\n",
    "percent_win_list = list(form_win_dict.values())\n",
    "df_form_win=pd.DataFrame()\n",
    "df_form_win['formation']=formation_win_list\n",
    "df_form_win['win_percent']=percent_win_list\n",
    "print(df_form_win['win_percent'].mean())\n",
    "df_form_win"
   ]
  },
  {
   "cell_type": "code",
   "execution_count": 132,
   "metadata": {},
   "outputs": [
    {
     "data": {
      "text/html": [
       "<div>\n",
       "<style scoped>\n",
       "    .dataframe tbody tr th:only-of-type {\n",
       "        vertical-align: middle;\n",
       "    }\n",
       "\n",
       "    .dataframe tbody tr th {\n",
       "        vertical-align: top;\n",
       "    }\n",
       "\n",
       "    .dataframe thead th {\n",
       "        text-align: right;\n",
       "    }\n",
       "</style>\n",
       "<table border=\"1\" class=\"dataframe\">\n",
       "  <thead>\n",
       "    <tr style=\"text-align: right;\">\n",
       "      <th></th>\n",
       "      <th>home_name</th>\n",
       "      <th>away_name</th>\n",
       "      <th>home_team_goal</th>\n",
       "      <th>away_team_goal</th>\n",
       "      <th>home_form</th>\n",
       "      <th>away_form</th>\n",
       "      <th>win_team</th>\n",
       "      <th>win_form</th>\n",
       "      <th>lose_form</th>\n",
       "    </tr>\n",
       "  </thead>\n",
       "  <tbody>\n",
       "    <tr>\n",
       "      <td>972</td>\n",
       "      <td>Blackburn Rovers</td>\n",
       "      <td>Wolverhampton Wanderers</td>\n",
       "      <td>1</td>\n",
       "      <td>2</td>\n",
       "      <td>(GK, D, D, D, D, M, M, A, A, A, F)</td>\n",
       "      <td>(GK, D, D, D, D, M, M, A, A, A, F)</td>\n",
       "      <td>Wolverhampton Wanderers</td>\n",
       "      <td>(GK, D, D, D, D, M, M, A, A, A, F)</td>\n",
       "      <td>(GK, D, D, D, D, M, M, A, A, A, F)</td>\n",
       "    </tr>\n",
       "    <tr>\n",
       "      <td>975</td>\n",
       "      <td>Manchester City</td>\n",
       "      <td>Swansea City</td>\n",
       "      <td>4</td>\n",
       "      <td>0</td>\n",
       "      <td>(GK, D, D, D, D, M, M, A, A, A, F)</td>\n",
       "      <td>(GK, D, D, D, D, D, M, M, M, F, F)</td>\n",
       "      <td>Manchester City</td>\n",
       "      <td>(GK, D, D, D, D, M, M, A, A, A, F)</td>\n",
       "      <td>(GK, D, D, D, D, D, M, M, M, F, F)</td>\n",
       "    </tr>\n",
       "    <tr>\n",
       "      <td>977</td>\n",
       "      <td>Queens Park Rangers</td>\n",
       "      <td>Bolton Wanderers</td>\n",
       "      <td>0</td>\n",
       "      <td>4</td>\n",
       "      <td>(GK, D, D, D, D, M, M, M, M, F, F)</td>\n",
       "      <td>(GK, D, D, D, D, M, M, A, A, A, F)</td>\n",
       "      <td>Bolton Wanderers</td>\n",
       "      <td>(GK, D, D, D, D, M, M, A, A, A, F)</td>\n",
       "      <td>(GK, D, D, D, D, M, M, M, M, F, F)</td>\n",
       "    </tr>\n",
       "  </tbody>\n",
       "</table>\n",
       "</div>"
      ],
      "text/plain": [
       "               home_name                away_name  home_team_goal  \\\n",
       "972     Blackburn Rovers  Wolverhampton Wanderers               1   \n",
       "975      Manchester City             Swansea City               4   \n",
       "977  Queens Park Rangers         Bolton Wanderers               0   \n",
       "\n",
       "     away_team_goal                           home_form  \\\n",
       "972               2  (GK, D, D, D, D, M, M, A, A, A, F)   \n",
       "975               0  (GK, D, D, D, D, M, M, A, A, A, F)   \n",
       "977               4  (GK, D, D, D, D, M, M, M, M, F, F)   \n",
       "\n",
       "                              away_form                 win_team  \\\n",
       "972  (GK, D, D, D, D, M, M, A, A, A, F)  Wolverhampton Wanderers   \n",
       "975  (GK, D, D, D, D, D, M, M, M, F, F)          Manchester City   \n",
       "977  (GK, D, D, D, D, M, M, A, A, A, F)         Bolton Wanderers   \n",
       "\n",
       "                               win_form                           lose_form  \n",
       "972  (GK, D, D, D, D, M, M, A, A, A, F)  (GK, D, D, D, D, M, M, A, A, A, F)  \n",
       "975  (GK, D, D, D, D, M, M, A, A, A, F)  (GK, D, D, D, D, D, M, M, M, F, F)  \n",
       "977  (GK, D, D, D, D, M, M, A, A, A, F)  (GK, D, D, D, D, M, M, M, M, F, F)  "
      ]
     },
     "execution_count": 132,
     "metadata": {},
     "output_type": "execute_result"
    }
   ],
   "source": [
    "df_no_draw.head(3)"
   ]
  },
  {
   "cell_type": "code",
   "execution_count": 148,
   "metadata": {},
   "outputs": [],
   "source": [
    "def get_sample_means(n,p,sample_size,iterations):\n",
    "    sample_means = []\n",
    "    sample_mean = 0\n",
    "    for i in range(iterations):\n",
    "        sample_mean=round(np.random.binomial(n,p,sample_size).mean(),3)\n",
    "        sample_means.append(sample_mean)\n",
    "    return sample_means"
   ]
  },
  {
   "cell_type": "code",
   "execution_count": 227,
   "metadata": {},
   "outputs": [],
   "source": [
    "def graph_hist(n,p,sample_size,iterations,pop_mean,form_title):\n",
    "    sns.distplot(get_sample_means(n,p,sample_size,iterations),color='k')\n",
    "    plt.axvline(x=pop_mean,color='red')\n",
    "    plt.xlabel('formation wins across five seasons')\n",
    "    plt.ylabel('probability of win quantity')\n",
    "    plt.title(f'{form_title} winning efficiency')   "
   ]
  },
  {
   "cell_type": "code",
   "execution_count": 304,
   "metadata": {},
   "outputs": [
    {
     "data": {
      "text/plain": [
       "340.005"
      ]
     },
     "execution_count": 304,
     "metadata": {},
     "output_type": "execute_result"
    }
   ],
   "source": [
    "#sample mean\n",
    "round(np.mean(get_sample_means(663,(340/663),500,1000)),3)"
   ]
  },
  {
   "cell_type": "code",
   "execution_count": 292,
   "metadata": {},
   "outputs": [
    {
     "data": {
      "text/plain": [
       "12.870160280316078"
      ]
     },
     "execution_count": 292,
     "metadata": {},
     "output_type": "execute_result"
    }
   ],
   "source": [
    "# population variance\n",
    "binomial_var_1 = (663*(340/663)*(1-340/663))\n",
    "binomial_std_1 = binomial_var_1**.5\n",
    "binomial_std_1"
   ]
  },
  {
   "cell_type": "code",
   "execution_count": 287,
   "metadata": {},
   "outputs": [
    {
     "name": "stdout",
     "output_type": "stream",
     "text": [
      "0.5128205128205128\n"
     ]
    },
    {
     "data": {
      "image/png": "[encoded data removed]",
      "text/plain": [
       "<Figure size 432x288 with 1 Axes>"
      ]
     },
     "metadata": {
      "needs_background": "light"
     },
     "output_type": "display_data"
    }
   ],
   "source": [
    "# 4-2-3-1 mean distribution\n",
    "sns.distplot(get_sample_means(663,(340/663),500,1000),color='k')\n",
    "plt.axvline(x=340,color='red')\n",
    "plt.xlabel('formation wins across five seasons')\n",
    "plt.ylabel('probability of win quantity')\n",
    "plt.title('4-2-3-1 winning efficiency')\n",
    "print(340/663)"
   ]
  },
  {
   "cell_type": "code",
   "execution_count": 296,
   "metadata": {},
   "outputs": [
    {
     "data": {
      "text/plain": [
       "162.956"
      ]
     },
     "execution_count": 296,
     "metadata": {},
     "output_type": "execute_result"
    }
   ],
   "source": [
    "round(np.mean(get_sample_means(304,(163/304),200,1000)),3)"
   ]
  },
  {
   "cell_type": "code",
   "execution_count": 297,
   "metadata": {},
   "outputs": [
    {
     "data": {
      "text/plain": [
       "8.694939544597796"
      ]
     },
     "execution_count": 297,
     "metadata": {},
     "output_type": "execute_result"
    }
   ],
   "source": [
    "# population variance\n",
    "binomial_var_2 = (304*(163/304)*(1-163/304))\n",
    "binomial_std_2 = binomial_var_2**.5\n",
    "binomial_std_2"
   ]
  },
  {
   "cell_type": "code",
   "execution_count": 248,
   "metadata": {},
   "outputs": [
    {
     "name": "stdout",
     "output_type": "stream",
     "text": [
      "0.5361842105263158\n"
     ]
    },
    {
     "data": {
      "image/png": "[encoded data removed]",
      "text/plain": [
       "<Figure size 432x288 with 1 Axes>"
      ]
     },
     "metadata": {
      "needs_background": "light"
     },
     "output_type": "display_data"
    }
   ],
   "source": [
    "# 4-4-2 mean distribution\n",
    "sns.distplot(get_sample_means(304,(163/304),200,1000),color='k')\n",
    "plt.axvline(x=163,color='red')\n",
    "plt.xlabel('expected formation wins across five seasons')\n",
    "plt.ylabel('probability of win quantity')\n",
    "plt.title('4-4-2 winning efficiency')\n",
    "print(163/304)"
   ]
  },
  {
   "cell_type": "code",
   "execution_count": 298,
   "metadata": {},
   "outputs": [
    {
     "data": {
      "text/plain": [
       "70.999"
      ]
     },
     "execution_count": 298,
     "metadata": {},
     "output_type": "execute_result"
    }
   ],
   "source": [
    "round(np.mean(get_sample_means(150,(71/150),100,1000)),3)"
   ]
  },
  {
   "cell_type": "code",
   "execution_count": 299,
   "metadata": {},
   "outputs": [
    {
     "data": {
      "text/plain": [
       "6.115008857993039"
      ]
     },
     "execution_count": 299,
     "metadata": {},
     "output_type": "execute_result"
    }
   ],
   "source": [
    "# population variance\n",
    "binomial_var_3 = (150*(71/150)*(1-71/150))\n",
    "binomial_std_3 = binomial_var_3**.5\n",
    "binomial_std_3"
   ]
  },
  {
   "cell_type": "code",
   "execution_count": 249,
   "metadata": {},
   "outputs": [
    {
     "name": "stdout",
     "output_type": "stream",
     "text": [
      "0.47333333333333333\n"
     ]
    },
    {
     "data": {
      "image/png": "[encoded data removed]",
      "text/plain": [
       "<Figure size 432x288 with 1 Axes>"
      ]
     },
     "metadata": {
      "needs_background": "light"
     },
     "output_type": "display_data"
    }
   ],
   "source": [
    "# 4-3-3 mean distribution\n",
    "sns.distplot(get_sample_means(150,(71/150),100,1000),color='k')\n",
    "plt.axvline(x=71,color='red')\n",
    "plt.xlabel('expected formation wins across five seasons')\n",
    "plt.ylabel('probability of win quantity')\n",
    "plt.title('4-3-3 winning efficiency')\n",
    "print(71/150)"
   ]
  },
  {
   "cell_type": "code",
   "execution_count": 306,
   "metadata": {},
   "outputs": [
    {
     "data": {
      "text/plain": [
       "-3.220801403358564e-14"
      ]
     },
     "execution_count": 306,
     "metadata": {},
     "output_type": "execute_result"
    }
   ],
   "source": [
    "#sample_xyz\n",
    "stats.zscore(sample_xyz).mean()"
   ]
  },
  {
   "cell_type": "code",
   "execution_count": 310,
   "metadata": {},
   "outputs": [
    {
     "data": {
      "text/plain": [
       "1.312017161581025e-14"
      ]
     },
     "execution_count": 310,
     "metadata": {},
     "output_type": "execute_result"
    }
   ],
   "source": [
    "#sample_xy\n",
    "stats.zscore(sample_xy).mean()"
   ]
  },
  {
   "cell_type": "code",
   "execution_count": 314,
   "metadata": {},
   "outputs": [
    {
     "data": {
      "text/plain": [
       "9.615419571673556e-15"
      ]
     },
     "execution_count": 314,
     "metadata": {},
     "output_type": "execute_result"
    }
   ],
   "source": [
    "#sample_x\n",
    "stats.zscore(sample_x).mean()"
   ]
  }
 ],
 "metadata": {
  "kernelspec": {
   "display_name": "Python 3",
   "language": "python",
   "name": "python3"
  },
  "language_info": {
   "codemirror_mode": {
    "name": "ipython",
    "version": 3
   },
   "file_extension": ".py",
   "mimetype": "text/x-python",
   "name": "python",
   "nbconvert_exporter": "python",
   "pygments_lexer": "ipython3",
   "version": "3.7.4"
  }
 },
 "nbformat": 4,
 "nbformat_minor": 4
}
