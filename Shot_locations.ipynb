{
 "cells": [
  {
   "cell_type": "code",
   "execution_count": 35,
   "metadata": {},
   "outputs": [],
   "source": [
    "%matplotlib inline\n",
    "import requests\n",
    "import pandas as pd\n",
    "import json\n",
    "import pdb\n",
    "import numpy as np\n",
    "import matplotlib.pyplot as plt\n",
    "import seaborn as sns\n",
    "import math\n",
    "from scipy import stats\n",
    "import random"
   ]
  },
  {
   "cell_type": "code",
   "execution_count": 34,
   "metadata": {},
   "outputs": [],
   "source": [
    "random.seed(54)"
   ]
  },
  {
   "cell_type": "code",
   "execution_count": 2,
   "metadata": {},
   "outputs": [],
   "source": [
    "client_id = 'soccer-data.p.rapidapi.com' \n",
    "api_key = '50e793e514msh10bde0be822b28ap1e78c7jsnf0954014cacc'"
   ]
  },
  {
   "cell_type": "code",
   "execution_count": 3,
   "metadata": {},
   "outputs": [],
   "source": [
    "Request_URL = 'https://developers.broadage.com/soccer-api/match-events-basic'\n",
    "Request_URL_2 = 'https://soccer-data.p.rapidapi.com'"
   ]
  },
  {
   "cell_type": "code",
   "execution_count": 4,
   "metadata": {},
   "outputs": [],
   "source": [
    "df_1 = pd.read_csv('/Users/flatironschool/Desktop/mod_3_P/kick_locations.csv')\n",
    "#df_1.head()\n",
    "#df_1.iloc[0,6:7]=22"
   ]
  },
  {
   "cell_type": "code",
   "execution_count": 5,
   "metadata": {},
   "outputs": [],
   "source": [
    "#create new df with shot percentage\n",
    "df_1['out%']=df_1['Out of Box (G)']/df_1['Out of Box (S)']\n",
    "df_1['pen%']=df_1['Penalty Area (G)']/df_1['Penalty Area (S)']\n",
    "df_1['six%']=df_1['Six Yard Box (G)']/df_1['Six Yard Box (S)']\n",
    "df_1['prf%']=df_1['Preferred (G)']/df_1['Preferred (S)']\n",
    "df_1['wek%']=df_1['Weak (G)']/df_1['Weak (S)']\n",
    "df_1['hed%']=df_1['Head (G)']/df_1['Head (S)']\n"
   ]
  },
  {
   "cell_type": "code",
   "execution_count": 6,
   "metadata": {},
   "outputs": [],
   "source": [
    "df_3=df_1[['Year', 'Player', 'Preferred Foot', 'Out of Box (S)', 'Out of Box (G)',\n",
    "       'Penalty Area (S)', 'Penalty Area (G)', 'Six Yard Box (S)',\n",
    "       'Six Yard Box (G)', 'Preferred (S)', 'Preferred (G)', 'Weak (S)',\n",
    "       'Weak (G)', 'Head (S)', 'Head (G)', 'All (S)', 'All (G)']]"
   ]
  },
  {
   "cell_type": "code",
   "execution_count": 7,
   "metadata": {},
   "outputs": [],
   "source": [
    "df_2=df_1[['Player','out%','pen%','six%','prf%','wek%','hed%']]"
   ]
  },
  {
   "cell_type": "code",
   "execution_count": 119,
   "metadata": {},
   "outputs": [
    {
     "data": {
      "text/html": [
       "<div>\n",
       "<style scoped>\n",
       "    .dataframe tbody tr th:only-of-type {\n",
       "        vertical-align: middle;\n",
       "    }\n",
       "\n",
       "    .dataframe tbody tr th {\n",
       "        vertical-align: top;\n",
       "    }\n",
       "\n",
       "    .dataframe thead th {\n",
       "        text-align: right;\n",
       "    }\n",
       "</style>\n",
       "<table border=\"1\" class=\"dataframe\">\n",
       "  <thead>\n",
       "    <tr style=\"text-align: right;\">\n",
       "      <th></th>\n",
       "      <th>Player</th>\n",
       "      <th>out%</th>\n",
       "      <th>pen%</th>\n",
       "      <th>six%</th>\n",
       "      <th>prf%</th>\n",
       "      <th>wek%</th>\n",
       "      <th>hed%</th>\n",
       "    </tr>\n",
       "  </thead>\n",
       "  <tbody>\n",
       "    <tr>\n",
       "      <td>0</td>\n",
       "      <td>Aguero</td>\n",
       "      <td>0.060606</td>\n",
       "      <td>0.018519</td>\n",
       "      <td>0.285714</td>\n",
       "      <td>0.187500</td>\n",
       "      <td>0.175000</td>\n",
       "      <td>0.294118</td>\n",
       "    </tr>\n",
       "    <tr>\n",
       "      <td>1</td>\n",
       "      <td>Kane</td>\n",
       "      <td>0.043478</td>\n",
       "      <td>0.259259</td>\n",
       "      <td>0.500000</td>\n",
       "      <td>0.152778</td>\n",
       "      <td>0.217391</td>\n",
       "      <td>0.083333</td>\n",
       "    </tr>\n",
       "    <tr>\n",
       "      <td>2</td>\n",
       "      <td>Diego Costa</td>\n",
       "      <td>0.000000</td>\n",
       "      <td>0.271186</td>\n",
       "      <td>0.571429</td>\n",
       "      <td>0.285714</td>\n",
       "      <td>0.227273</td>\n",
       "      <td>0.250000</td>\n",
       "    </tr>\n",
       "  </tbody>\n",
       "</table>\n",
       "</div>"
      ],
      "text/plain": [
       "        Player      out%      pen%      six%      prf%      wek%      hed%\n",
       "0       Aguero  0.060606  0.018519  0.285714  0.187500  0.175000  0.294118\n",
       "1         Kane  0.043478  0.259259  0.500000  0.152778  0.217391  0.083333\n",
       "2  Diego Costa  0.000000  0.271186  0.571429  0.285714  0.227273  0.250000"
      ]
     },
     "execution_count": 119,
     "metadata": {},
     "output_type": "execute_result"
    }
   ],
   "source": [
    "#df_2.reset_index()\n",
    "df_2.head(3)"
   ]
  },
  {
   "cell_type": "code",
   "execution_count": 122,
   "metadata": {},
   "outputs": [
    {
     "data": {
      "text/plain": [
       "<matplotlib.lines.Line2D at 0x1a1d5a1c90>"
      ]
     },
     "execution_count": 122,
     "metadata": {},
     "output_type": "execute_result"
    },
    {
     "data": {
      "image/png": "[encoded data removed]",
      "text/plain": [
       "<Figure size 432x288 with 1 Axes>"
      ]
     },
     "metadata": {
      "needs_background": "light"
     },
     "output_type": "display_data"
    }
   ],
   "source": [
    "plt.barh(['out%','pen%','six%','prf%','wek%','hed%'],[.064,.21,.40,.19,.18,.24],color='teal')\n",
    "plt.axvline(0.1476,color='k')"
   ]
  },
  {
   "cell_type": "code",
   "execution_count": 9,
   "metadata": {},
   "outputs": [
    {
     "data": {
      "text/html": [
       "<div>\n",
       "<style scoped>\n",
       "    .dataframe tbody tr th:only-of-type {\n",
       "        vertical-align: middle;\n",
       "    }\n",
       "\n",
       "    .dataframe tbody tr th {\n",
       "        vertical-align: top;\n",
       "    }\n",
       "\n",
       "    .dataframe thead th {\n",
       "        text-align: right;\n",
       "    }\n",
       "</style>\n",
       "<table border=\"1\" class=\"dataframe\">\n",
       "  <thead>\n",
       "    <tr style=\"text-align: right;\">\n",
       "      <th></th>\n",
       "      <th>Year</th>\n",
       "      <th>Player</th>\n",
       "      <th>Preferred Foot</th>\n",
       "      <th>Out of Box (S)</th>\n",
       "      <th>Out of Box (G)</th>\n",
       "      <th>Penalty Area (S)</th>\n",
       "      <th>Penalty Area (G)</th>\n",
       "      <th>Six Yard Box (S)</th>\n",
       "      <th>Six Yard Box (G)</th>\n",
       "      <th>Preferred (S)</th>\n",
       "      <th>Preferred (G)</th>\n",
       "      <th>Weak (S)</th>\n",
       "      <th>Weak (G)</th>\n",
       "      <th>Head (S)</th>\n",
       "      <th>Head (G)</th>\n",
       "      <th>All (S)</th>\n",
       "      <th>All (G)</th>\n",
       "    </tr>\n",
       "  </thead>\n",
       "  <tbody>\n",
       "    <tr>\n",
       "      <td>0</td>\n",
       "      <td>2014/15</td>\n",
       "      <td>Aguero</td>\n",
       "      <td>R</td>\n",
       "      <td>33</td>\n",
       "      <td>2</td>\n",
       "      <td>108</td>\n",
       "      <td>2</td>\n",
       "      <td>7</td>\n",
       "      <td>2</td>\n",
       "      <td>96</td>\n",
       "      <td>18</td>\n",
       "      <td>40</td>\n",
       "      <td>7</td>\n",
       "      <td>17</td>\n",
       "      <td>5</td>\n",
       "      <td>148</td>\n",
       "      <td>6</td>\n",
       "    </tr>\n",
       "    <tr>\n",
       "      <td>1</td>\n",
       "      <td>2014/15</td>\n",
       "      <td>Kane</td>\n",
       "      <td>R</td>\n",
       "      <td>46</td>\n",
       "      <td>2</td>\n",
       "      <td>54</td>\n",
       "      <td>14</td>\n",
       "      <td>10</td>\n",
       "      <td>5</td>\n",
       "      <td>72</td>\n",
       "      <td>11</td>\n",
       "      <td>23</td>\n",
       "      <td>5</td>\n",
       "      <td>12</td>\n",
       "      <td>1</td>\n",
       "      <td>110</td>\n",
       "      <td>21</td>\n",
       "    </tr>\n",
       "    <tr>\n",
       "      <td>2</td>\n",
       "      <td>2014/15</td>\n",
       "      <td>Diego Costa</td>\n",
       "      <td>R</td>\n",
       "      <td>10</td>\n",
       "      <td>0</td>\n",
       "      <td>59</td>\n",
       "      <td>16</td>\n",
       "      <td>7</td>\n",
       "      <td>4</td>\n",
       "      <td>42</td>\n",
       "      <td>12</td>\n",
       "      <td>22</td>\n",
       "      <td>5</td>\n",
       "      <td>12</td>\n",
       "      <td>3</td>\n",
       "      <td>76</td>\n",
       "      <td>20</td>\n",
       "    </tr>\n",
       "  </tbody>\n",
       "</table>\n",
       "</div>"
      ],
      "text/plain": [
       "      Year       Player Preferred Foot  Out of Box (S)  Out of Box (G)  \\\n",
       "0  2014/15       Aguero              R              33               2   \n",
       "1  2014/15         Kane              R              46               2   \n",
       "2  2014/15  Diego Costa              R              10               0   \n",
       "\n",
       "   Penalty Area (S)  Penalty Area (G)  Six Yard Box (S)  Six Yard Box (G)  \\\n",
       "0               108                 2                 7                 2   \n",
       "1                54                14                10                 5   \n",
       "2                59                16                 7                 4   \n",
       "\n",
       "   Preferred (S)  Preferred (G)  Weak (S)  Weak (G)  Head (S)  Head (G)  \\\n",
       "0             96             18        40         7        17         5   \n",
       "1             72             11        23         5        12         1   \n",
       "2             42             12        22         5        12         3   \n",
       "\n",
       "   All (S)  All (G)  \n",
       "0      148        6  \n",
       "1      110       21  \n",
       "2       76       20  "
      ]
     },
     "execution_count": 9,
     "metadata": {},
     "output_type": "execute_result"
    }
   ],
   "source": [
    "df_3.head(3)"
   ]
  },
  {
   "cell_type": "code",
   "execution_count": 70,
   "metadata": {},
   "outputs": [],
   "source": [
    "def get_sample_means(n,p,sample_size,iterations):\n",
    "    sample_means = []\n",
    "    sample_mean = 0\n",
    "    for i in range(iterations):\n",
    "        sample_mean=round(np.random.binomial(n,p,sample_size).mean(),3)\n",
    "        sample_means.append(sample_mean)\n",
    "    return sample_means"
   ]
  },
  {
   "cell_type": "code",
   "execution_count": 11,
   "metadata": {},
   "outputs": [],
   "source": [
    "    shot_dict={'out':75/1329,'penalty':662/3206,'six':185/465,'strong':601/3310,'weak':183/1011,'head':132/659,'all':902/5000}"
   ]
  },
  {
   "cell_type": "code",
   "execution_count": 38,
   "metadata": {},
   "outputs": [],
   "source": [
    "#14.76% shot percent based goals and shots per game 2019/2020 and a small striker boost multiple\n",
    "scaled_pop_shot_dict ={'out':196,'penalty':473,'six':68,'strong':488,'weak':149,'head':97}"
   ]
  },
  {
   "cell_type": "code",
   "execution_count": 118,
   "metadata": {},
   "outputs": [
    {
     "name": "stdout",
     "output_type": "stream",
     "text": [
      "out  pen  six  prf  wek  hed\n",
      "\n",
      "196  473  68  488  149  97\n",
      "\n",
      "75  662  185  601  183  132\n"
     ]
    }
   ],
   "source": [
    "print('out','','pen','','six','','prf','','wek','','hed')\n",
    "print('')\n",
    "print(196,'',473,'',68,'',488,'',149,'',97)\n",
    "print('')\n",
    "print(75,'',662,'',185,'',601,'',183,'',132)"
   ]
  },
  {
   "cell_type": "code",
   "execution_count": 123,
   "metadata": {},
   "outputs": [
    {
     "data": {
      "text/plain": [
       "5.143606994453"
      ]
     },
     "execution_count": 123,
     "metadata": {},
     "output_type": "execute_result"
    }
   ],
   "source": [
    "current_var = (254)*(30/254)*(1-30/254)\n",
    "current_std = current_var**.5\n",
    "current_std"
   ]
  },
  {
   "cell_type": "code",
   "execution_count": 147,
   "metadata": {},
   "outputs": [
    {
     "data": {
      "text/plain": [
       "<matplotlib.legend.Legend at 0x1a1eb07d50>"
      ]
     },
     "execution_count": 147,
     "metadata": {},
     "output_type": "execute_result"
    },
    {
     "data": {
      "image/png": "[encoded data removed]",
      "text/plain": [
       "<Figure size 432x288 with 1 Axes>"
      ]
     },
     "metadata": {
      "needs_background": "light"
     },
     "output_type": "display_data"
    }
   ],
   "source": [
    "p1 = plt.bar(['out','penalty','six-yard','strong','weak','head'], [196,473,68,488,149,97],color='aqua')\n",
    "p2 = plt.bar(['out','penalty','six-yard','strong','weak','head'], [75,662,185,601,183,132],bottom=[196,473,68,488,149,97],color='teal')\n",
    "plt.title('Expected goals vs actual goals')\n",
    "plt.legend((p1[0], p2[0]), ('Expected', 'Actual'))"
   ]
  },
  {
   "cell_type": "code",
   "execution_count": 149,
   "metadata": {},
   "outputs": [
    {
     "data": {
      "text/plain": [
       "0.1476"
      ]
     },
     "execution_count": 149,
     "metadata": {},
     "output_type": "execute_result"
    }
   ],
   "source": [
    "shot_dict={'out':75/1329,'penalty':662/3206,'six':185/465,'strong':601/3310,'weak':183/1011,'head':132/659,'all':902/5000}\n",
    "0.1476"
   ]
  },
  {
   "cell_type": "code",
   "execution_count": 160,
   "metadata": {},
   "outputs": [
    {
     "name": "stdout",
     "output_type": "stream",
     "text": [
      "out% p-value\n"
     ]
    },
    {
     "data": {
      "text/plain": [
       "1.6010536731017642e-276"
      ]
     },
     "execution_count": 160,
     "metadata": {},
     "output_type": "execute_result"
    }
   ],
   "source": [
    "print('out% p-value')\n",
    "stats.binom_test([75,(1329-75)],0.1476)"
   ]
  },
  {
   "cell_type": "code",
   "execution_count": 161,
   "metadata": {},
   "outputs": [
    {
     "name": "stdout",
     "output_type": "stream",
     "text": [
      "penalty% p-value\n"
     ]
    },
    {
     "data": {
      "text/plain": [
       "4.423598778984546e-258"
      ]
     },
     "execution_count": 161,
     "metadata": {},
     "output_type": "execute_result"
    }
   ],
   "source": [
    "print('penalty% p-value')\n",
    "\n",
    "stats.binom_test([662,(3206-662)],0.1476)"
   ]
  },
  {
   "cell_type": "code",
   "execution_count": 162,
   "metadata": {},
   "outputs": [
    {
     "name": "stdout",
     "output_type": "stream",
     "text": [
      "six-yard% p-value\n"
     ]
    },
    {
     "data": {
      "text/plain": [
       "1.2231450689944592e-05"
      ]
     },
     "execution_count": 162,
     "metadata": {},
     "output_type": "execute_result"
    }
   ],
   "source": [
    "print('six-yard% p-value')\n",
    "\n",
    "stats.binom_test([185,(465-185)],0.1476)"
   ]
  },
  {
   "cell_type": "code",
   "execution_count": 166,
   "metadata": {},
   "outputs": [
    {
     "name": "stdout",
     "output_type": "stream",
     "text": [
      "strong% p-value\n"
     ]
    },
    {
     "data": {
      "text/plain": [
       "2.0090567e-317"
      ]
     },
     "execution_count": 166,
     "metadata": {},
     "output_type": "execute_result"
    }
   ],
   "source": [
    "print('strong% p-value')\n",
    "\n",
    "stats.binom_test([601,(3310-601)],0.1476)"
   ]
  },
  {
   "cell_type": "code",
   "execution_count": 167,
   "metadata": {},
   "outputs": [
    {
     "name": "stdout",
     "output_type": "stream",
     "text": [
      "weak% p-value\n"
     ]
    },
    {
     "data": {
      "text/plain": [
       "1.68416560493203e-98"
      ]
     },
     "execution_count": 167,
     "metadata": {},
     "output_type": "execute_result"
    }
   ],
   "source": [
    "print('weak% p-value')\n",
    "\n",
    "stats.binom_test([183,(1011-183)],0.1476)"
   ]
  },
  {
   "cell_type": "code",
   "execution_count": 168,
   "metadata": {},
   "outputs": [
    {
     "name": "stdout",
     "output_type": "stream",
     "text": [
      "header% p-value\n"
     ]
    },
    {
     "data": {
      "text/plain": [
       "2.2840724050185937e-10"
      ]
     },
     "execution_count": 168,
     "metadata": {},
     "output_type": "execute_result"
    }
   ],
   "source": [
    "print('header% p-value')\n",
    "\n",
    "stats.binom_test([340,(659-132)],0.1476)"
   ]
  }
 ],
 "metadata": {
  "kernelspec": {
   "display_name": "Python 3",
   "language": "python",
   "name": "python3"
  },
  "language_info": {
   "codemirror_mode": {
    "name": "ipython",
    "version": 3
   },
   "file_extension": ".py",
   "mimetype": "text/x-python",
   "name": "python",
   "nbconvert_exporter": "python",
   "pygments_lexer": "ipython3",
   "version": "3.7.4"
  }
 },
 "nbformat": 4,
 "nbformat_minor": 4
}
