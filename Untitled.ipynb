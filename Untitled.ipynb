{
 "cells": [
  {
   "cell_type": "code",
   "execution_count": 1,
   "metadata": {},
   "outputs": [],
   "source": [
    "import pandas as pd\n",
    "import numpy as np\n",
    "import matplotlib.pyplot as plt\n",
    "import seaborn as sns\n",
    "import scipy.stats as stats"
   ]
  },
  {
   "cell_type": "code",
   "execution_count": 4,
   "metadata": {},
   "outputs": [],
   "source": [
    "epl_dataset = pd.read_csv('EPLDataset.csv')"
   ]
  },
  {
   "cell_type": "code",
   "execution_count": 5,
   "metadata": {},
   "outputs": [],
   "source": [
    "team_names = {'TOT': 'Tottenham', 'CHE': 'Chelsea', 'EVE': 'Everton', 'MCI': 'Man City', 'MUN': 'Man United',\n",
    "             'ARS': 'Arsenal', 'LIV': 'Liverpool', 'WHU': 'West Ham', 'NEW': 'Newcastle', 'SUN': 'Sunderland', 'STK': 'Stoke City',\n",
    "             'AVL': 'Aston Villa', 'FUL': 'Fulham', 'WBA': 'West Bromwich', 'SOU': 'Southampton', 'SWA': 'Swansea', 'WIG': 'Wigan',\n",
    "             'CRY': 'Crystal Palace', 'BOL': 'Bolton', 'BLB': 'Blackburn', 'BUR': 'Burnley', 'WAT': 'Watford', 'LEI': 'Leicester City',\n",
    "             'HUL': 'Hull City', 'MID': 'Middlesbrough', 'POR': 'Portsmouth', 'BOU': 'Bournmouth', 'WOL': 'Wolverhampton', \n",
    "             'NOR': 'Norwich City', 'RDG': 'Reading', 'BIR': 'Birmingham', 'QPR': 'QPR', 'HUD': 'Huddersfield', 'BHA': 'Brighton',\n",
    "             'CAR': 'Cardiff City', 'DER': 'Derby County', 'SHU': 'Sheffield United', 'CHA': 'Charlton', 'BLP': 'Blackpool'}\n",
    "home_team_abbr = epl_dataset['home_team'].copy()\n",
    "away_team_abbr = epl_dataset['away_team'].copy()"
   ]
  },
  {
   "cell_type": "code",
   "execution_count": 6,
   "metadata": {},
   "outputs": [],
   "source": [
    "for i in home_team_abbr.index:\n",
    "    home_team_abbr[i] = team_names[home_team_abbr[i]]\n",
    "    \n",
    "for x in away_team_abbr.index:\n",
    "    away_team_abbr[x] = team_names[away_team_abbr[x]]"
   ]
  },
  {
   "cell_type": "code",
   "execution_count": 7,
   "metadata": {},
   "outputs": [],
   "source": [
    "epl_dataset['home_team'] = home_team_abbr\n",
    "epl_dataset['away_team'] = away_team_abbr"
   ]
  },
  {
   "cell_type": "code",
   "execution_count": 8,
   "metadata": {},
   "outputs": [],
   "source": [
    "epl_dataset['home_shot_ratio'] = epl_dataset['home_shots_on_target'] / epl_dataset['home_shots']\n",
    "epl_dataset['away_shot_ratio'] = epl_dataset['away_shots_on_target'] / epl_dataset['away_shots']\n",
    "epl_dataset['winning_team_shot_ratio'] = epl_dataset['home_shots'].copy()"
   ]
  },
  {
   "cell_type": "code",
   "execution_count": 27,
   "metadata": {},
   "outputs": [
    {
     "name": "stderr",
     "output_type": "stream",
     "text": [
      "C:\\Users\\Gideon\\Anaconda3\\envs\\learn-env\\lib\\site-packages\\ipykernel_launcher.py:6: SettingWithCopyWarning: \n",
      "A value is trying to be set on a copy of a slice from a DataFrame\n",
      "\n",
      "See the caveats in the documentation: http://pandas.pydata.org/pandas-docs/stable/user_guide/indexing.html#returning-a-view-versus-a-copy\n",
      "  \n",
      "C:\\Users\\Gideon\\Anaconda3\\envs\\learn-env\\lib\\site-packages\\ipykernel_launcher.py:9: SettingWithCopyWarning: \n",
      "A value is trying to be set on a copy of a slice from a DataFrame\n",
      "\n",
      "See the caveats in the documentation: http://pandas.pydata.org/pandas-docs/stable/user_guide/indexing.html#returning-a-view-versus-a-copy\n",
      "  if __name__ == '__main__':\n",
      "C:\\Users\\Gideon\\Anaconda3\\envs\\learn-env\\lib\\site-packages\\ipykernel_launcher.py:12: SettingWithCopyWarning: \n",
      "A value is trying to be set on a copy of a slice from a DataFrame\n",
      "\n",
      "See the caveats in the documentation: http://pandas.pydata.org/pandas-docs/stable/user_guide/indexing.html#returning-a-view-versus-a-copy\n",
      "  if sys.path[0] == '':\n"
     ]
    }
   ],
   "source": [
    "winning_team = pd.Series(index=epl_dataset.index)\n",
    "\n",
    "for num in epl_dataset.index:\n",
    "    if epl_dataset['winner'][num] == 0:\n",
    "        winning_team[num] = 'Draw'\n",
    "        epl_dataset['winning_team_shot_ratio'][num] = (epl_dataset['home_shot_ratio'][num] + epl_dataset['away_shot_ratio'][num]) / 2\n",
    "    elif epl_dataset['winner'][num] == 1:\n",
    "        winning_team[num] = epl_dataset['home_team'][num]\n",
    "        epl_dataset['winning_team_shot_ratio'][num] = epl_dataset['home_shot_ratio'][num]\n",
    "    else:\n",
    "        winning_team[num] = epl_dataset['away_team'][num]\n",
    "        epl_dataset['winning_team_shot_ratio'][num] = epl_dataset['away_shot_ratio'][num]"
   ]
  },
  {
   "cell_type": "code",
   "execution_count": 28,
   "metadata": {},
   "outputs": [],
   "source": [
    "epl_dataset['result'] = winning_team"
   ]
  },
  {
   "cell_type": "code",
   "execution_count": 29,
   "metadata": {},
   "outputs": [],
   "source": [
    "epl_goals_shots_dataset = epl_dataset[['home_team', 'home_goals', 'home_shots_on_target', 'home_shots', 'home_shot_ratio',\n",
    "                                       'away_team', 'away_goals', 'away_shots_on_target', 'away_shots', 'away_shot_ratio', \n",
    "                                       'winning_team_shot_ratio']].copy()"
   ]
  },
  {
   "cell_type": "code",
   "execution_count": 30,
   "metadata": {},
   "outputs": [
    {
     "data": {
      "text/plain": [
       "Index(['home_team', 'home_goals', 'home_shots_on_target', 'home_shots',\n",
       "       'home_shot_ratio', 'away_team', 'away_goals', 'away_shots_on_target',\n",
       "       'away_shots', 'away_shot_ratio', 'winning_team_shot_ratio'],\n",
       "      dtype='object')"
      ]
     },
     "execution_count": 30,
     "metadata": {},
     "output_type": "execute_result"
    }
   ],
   "source": [
    "epl_goals_shots_dataset.columns"
   ]
  },
  {
   "cell_type": "code",
   "execution_count": 31,
   "metadata": {},
   "outputs": [],
   "source": [
    "epl_goals_shots_dataset.rename(columns={'home_shots_on_target': 'h_sog', 'away_shots_on_target': 'a_sog'}, inplace=True)"
   ]
  },
  {
   "cell_type": "code",
   "execution_count": 32,
   "metadata": {},
   "outputs": [
    {
     "data": {
      "text/html": [
       "<div>\n",
       "<style scoped>\n",
       "    .dataframe tbody tr th:only-of-type {\n",
       "        vertical-align: middle;\n",
       "    }\n",
       "\n",
       "    .dataframe tbody tr th {\n",
       "        vertical-align: top;\n",
       "    }\n",
       "\n",
       "    .dataframe thead th {\n",
       "        text-align: right;\n",
       "    }\n",
       "</style>\n",
       "<table border=\"1\" class=\"dataframe\">\n",
       "  <thead>\n",
       "    <tr style=\"text-align: right;\">\n",
       "      <th></th>\n",
       "      <th>home_goals</th>\n",
       "      <th>h_sog</th>\n",
       "      <th>home_shots</th>\n",
       "      <th>home_shot_ratio</th>\n",
       "      <th>away_goals</th>\n",
       "      <th>a_sog</th>\n",
       "      <th>away_shots</th>\n",
       "      <th>away_shot_ratio</th>\n",
       "      <th>winning_team_shot_ratio</th>\n",
       "    </tr>\n",
       "  </thead>\n",
       "  <tbody>\n",
       "    <tr>\n",
       "      <td>count</td>\n",
       "      <td>4937.000000</td>\n",
       "      <td>4937.000000</td>\n",
       "      <td>4937.000000</td>\n",
       "      <td>4936.000000</td>\n",
       "      <td>4937.000000</td>\n",
       "      <td>4937.000000</td>\n",
       "      <td>4937.000000</td>\n",
       "      <td>4936.000000</td>\n",
       "      <td>4937.000000</td>\n",
       "    </tr>\n",
       "    <tr>\n",
       "      <td>mean</td>\n",
       "      <td>1.545878</td>\n",
       "      <td>4.930525</td>\n",
       "      <td>15.180879</td>\n",
       "      <td>0.329511</td>\n",
       "      <td>1.152927</td>\n",
       "      <td>3.913105</td>\n",
       "      <td>12.017419</td>\n",
       "      <td>0.332045</td>\n",
       "      <td>0.368584</td>\n",
       "    </tr>\n",
       "    <tr>\n",
       "      <td>std</td>\n",
       "      <td>1.314877</td>\n",
       "      <td>2.665782</td>\n",
       "      <td>11.054358</td>\n",
       "      <td>0.140054</td>\n",
       "      <td>1.143258</td>\n",
       "      <td>2.286762</td>\n",
       "      <td>10.223262</td>\n",
       "      <td>0.159384</td>\n",
       "      <td>0.132032</td>\n",
       "    </tr>\n",
       "    <tr>\n",
       "      <td>min</td>\n",
       "      <td>0.000000</td>\n",
       "      <td>0.000000</td>\n",
       "      <td>0.000000</td>\n",
       "      <td>0.000000</td>\n",
       "      <td>0.000000</td>\n",
       "      <td>0.000000</td>\n",
       "      <td>0.000000</td>\n",
       "      <td>0.000000</td>\n",
       "      <td>0.000000</td>\n",
       "    </tr>\n",
       "    <tr>\n",
       "      <td>25%</td>\n",
       "      <td>1.000000</td>\n",
       "      <td>3.000000</td>\n",
       "      <td>11.000000</td>\n",
       "      <td>0.235294</td>\n",
       "      <td>0.000000</td>\n",
       "      <td>2.000000</td>\n",
       "      <td>8.000000</td>\n",
       "      <td>0.222222</td>\n",
       "      <td>0.277778</td>\n",
       "    </tr>\n",
       "    <tr>\n",
       "      <td>50%</td>\n",
       "      <td>1.000000</td>\n",
       "      <td>5.000000</td>\n",
       "      <td>14.000000</td>\n",
       "      <td>0.333333</td>\n",
       "      <td>1.000000</td>\n",
       "      <td>4.000000</td>\n",
       "      <td>11.000000</td>\n",
       "      <td>0.333333</td>\n",
       "      <td>0.357143</td>\n",
       "    </tr>\n",
       "    <tr>\n",
       "      <td>75%</td>\n",
       "      <td>2.000000</td>\n",
       "      <td>7.000000</td>\n",
       "      <td>19.000000</td>\n",
       "      <td>0.416667</td>\n",
       "      <td>2.000000</td>\n",
       "      <td>5.000000</td>\n",
       "      <td>15.000000</td>\n",
       "      <td>0.428571</td>\n",
       "      <td>0.444444</td>\n",
       "    </tr>\n",
       "    <tr>\n",
       "      <td>max</td>\n",
       "      <td>9.000000</td>\n",
       "      <td>17.000000</td>\n",
       "      <td>678.000000</td>\n",
       "      <td>1.000000</td>\n",
       "      <td>7.000000</td>\n",
       "      <td>15.000000</td>\n",
       "      <td>643.000000</td>\n",
       "      <td>1.000000</td>\n",
       "      <td>1.000000</td>\n",
       "    </tr>\n",
       "  </tbody>\n",
       "</table>\n",
       "</div>"
      ],
      "text/plain": [
       "        home_goals        h_sog   home_shots  home_shot_ratio   away_goals  \\\n",
       "count  4937.000000  4937.000000  4937.000000      4936.000000  4937.000000   \n",
       "mean      1.545878     4.930525    15.180879         0.329511     1.152927   \n",
       "std       1.314877     2.665782    11.054358         0.140054     1.143258   \n",
       "min       0.000000     0.000000     0.000000         0.000000     0.000000   \n",
       "25%       1.000000     3.000000    11.000000         0.235294     0.000000   \n",
       "50%       1.000000     5.000000    14.000000         0.333333     1.000000   \n",
       "75%       2.000000     7.000000    19.000000         0.416667     2.000000   \n",
       "max       9.000000    17.000000   678.000000         1.000000     7.000000   \n",
       "\n",
       "             a_sog   away_shots  away_shot_ratio  winning_team_shot_ratio  \n",
       "count  4937.000000  4937.000000      4936.000000              4937.000000  \n",
       "mean      3.913105    12.017419         0.332045                 0.368584  \n",
       "std       2.286762    10.223262         0.159384                 0.132032  \n",
       "min       0.000000     0.000000         0.000000                 0.000000  \n",
       "25%       2.000000     8.000000         0.222222                 0.277778  \n",
       "50%       4.000000    11.000000         0.333333                 0.357143  \n",
       "75%       5.000000    15.000000         0.428571                 0.444444  \n",
       "max      15.000000   643.000000         1.000000                 1.000000  "
      ]
     },
     "execution_count": 32,
     "metadata": {},
     "output_type": "execute_result"
    }
   ],
   "source": [
    "epl_goals_shots_dataset = epl_goals_shots_dataset.loc[(epl_goals_shots_dataset['winning_team_shot_ratio'] <= 1)]\n",
    "epl_goals_shots_dataset.describe()"
   ]
  },
  {
   "cell_type": "code",
   "execution_count": 33,
   "metadata": {},
   "outputs": [
    {
     "data": {
      "text/plain": [
       "<matplotlib.axes._subplots.AxesSubplot at 0x1b1eacbcb70>"
      ]
     },
     "execution_count": 33,
     "metadata": {},
     "output_type": "execute_result"
    },
    {
     "data": {
      "image/png": "[encoded data removed]",
      "text/plain": [
       "<Figure size 432x288 with 1 Axes>"
      ]
     },
     "metadata": {
      "needs_background": "light"
     },
     "output_type": "display_data"
    }
   ],
   "source": [
    "sns.distplot(epl_goals_shots_dataset['winning_team_shot_ratio'], bins=50)"
   ]
  },
  {
   "cell_type": "code",
   "execution_count": null,
   "metadata": {},
   "outputs": [],
   "source": []
  },
  {
   "cell_type": "code",
   "execution_count": 16,
   "metadata": {},
   "outputs": [],
   "source": [
    "epl_defense_dataset = epl_dataset[['home_team', 'away_goals', 'home_tackles', 'home_clear', 'away_team', 'home_goals',\n",
    "                                   'away_tackles', 'away_clear', 'result']].copy()"
   ]
  },
  {
   "cell_type": "code",
   "execution_count": 17,
   "metadata": {},
   "outputs": [],
   "source": [
    "epl_defense_dataset.rename(columns={'away_goals': 'home_conceded', 'home_goals': 'away_conceded'}, inplace=True)"
   ]
  },
  {
   "cell_type": "code",
   "execution_count": 18,
   "metadata": {},
   "outputs": [],
   "source": [
    "epl_defense_dataset['home_defensive_actions'] = epl_defense_dataset['home_tackles'] + epl_defense_dataset['home_clear']\n",
    "epl_defense_dataset['away_defensive_actions'] = epl_defense_dataset['away_tackles'] + epl_defense_dataset['away_clear']"
   ]
  },
  {
   "cell_type": "code",
   "execution_count": 19,
   "metadata": {},
   "outputs": [],
   "source": [
    "home_defense = epl_defense_dataset[['home_defensive_actions', 'home_conceded']].copy()\n",
    "away_defense = epl_defense_dataset[['away_defensive_actions', 'away_conceded']].copy()"
   ]
  },
  {
   "cell_type": "code",
   "execution_count": 20,
   "metadata": {},
   "outputs": [],
   "source": [
    "home_defense.rename(columns={'home_defensive_actions': 'defensive_actions', 'home_conceded': 'conceded'}, inplace=True)\n",
    "away_defense.rename(columns={'away_defensive_actions': 'defensive_actions', 'away_conceded': 'conceded'}, inplace=True)"
   ]
  },
  {
   "cell_type": "code",
   "execution_count": 21,
   "metadata": {},
   "outputs": [],
   "source": [
    "overall_defense = home_defense.append(away_defense, sort=False, ignore_index=True)"
   ]
  },
  {
   "cell_type": "code",
   "execution_count": 22,
   "metadata": {},
   "outputs": [
    {
     "data": {
      "text/plain": [
       "<matplotlib.axes._subplots.AxesSubplot at 0x1b1ea9585f8>"
      ]
     },
     "execution_count": 22,
     "metadata": {},
     "output_type": "execute_result"
    },
    {
     "data": {
      "image/png": "[encoded data removed]",
      "text/plain": [
       "<Figure size 432x288 with 1 Axes>"
      ]
     },
     "metadata": {
      "needs_background": "light"
     },
     "output_type": "display_data"
    }
   ],
   "source": [
    "sns.boxplot('conceded', 'defensive_actions', data=overall_defense)"
   ]
  },
  {
   "cell_type": "code",
   "execution_count": 37,
   "metadata": {},
   "outputs": [
    {
     "data": {
      "text/plain": [
       "<seaborn.axisgrid.JointGrid at 0x1b1eae9cc50>"
      ]
     },
     "execution_count": 37,
     "metadata": {},
     "output_type": "execute_result"
    },
    {
     "data": {
      "image/png": "[encoded data removed]",
      "text/plain": [
       "<Figure size 432x432 with 3 Axes>"
      ]
     },
     "metadata": {
      "needs_background": "light"
     },
     "output_type": "display_data"
    }
   ],
   "source": [
    "sns.jointplot('defensive_actions', 'conceded', data=overall_defense, kind='reg')"
   ]
  },
  {
   "cell_type": "code",
   "execution_count": 23,
   "metadata": {},
   "outputs": [],
   "source": [
    "epl_passing_dataset = epl_dataset[['home_team', 'home_goals', 'home_pos', 'home_pass', 'away_team', 'away_goals',\n",
    "                                   'away_pos', 'away_pass', 'result']].copy()"
   ]
  },
  {
   "cell_type": "code",
   "execution_count": 24,
   "metadata": {},
   "outputs": [
    {
     "data": {
      "text/plain": [
       "<matplotlib.axes._subplots.AxesSubplot at 0x1b1eaa92828>"
      ]
     },
     "execution_count": 24,
     "metadata": {},
     "output_type": "execute_result"
    },
    {
     "data": {
      "image/png": "[encoded data removed]",
      "text/plain": [
       "<Figure size 432x288 with 1 Axes>"
      ]
     },
     "metadata": {
      "needs_background": "light"
     },
     "output_type": "display_data"
    }
   ],
   "source": [
    "sns.boxplot('home_goals', 'home_pass', data=epl_passing_dataset)"
   ]
  },
  {
   "cell_type": "code",
   "execution_count": 25,
   "metadata": {},
   "outputs": [
    {
     "data": {
      "text/plain": [
       "<matplotlib.axes._subplots.AxesSubplot at 0x1b1eaa7e160>"
      ]
     },
     "execution_count": 25,
     "metadata": {},
     "output_type": "execute_result"
    },
    {
     "data": {
      "image/png": "[encoded data removed]",
      "text/plain": [
       "<Figure size 432x288 with 1 Axes>"
      ]
     },
     "metadata": {
      "needs_background": "light"
     },
     "output_type": "display_data"
    }
   ],
   "source": [
    "sns.boxplot('away_goals', 'away_pass', data=epl_passing_dataset)"
   ]
  },
  {
   "cell_type": "code",
   "execution_count": null,
   "metadata": {},
   "outputs": [],
   "source": []
  }
 ],
 "metadata": {
  "kernelspec": {
   "display_name": "Python 3",
   "language": "python",
   "name": "python3"
  },
  "language_info": {
   "codemirror_mode": {
    "name": "ipython",
    "version": 3
   },
   "file_extension": ".py",
   "mimetype": "text/x-python",
   "name": "python",
   "nbconvert_exporter": "python",
   "pygments_lexer": "ipython3",
   "version": "3.6.9"
  }
 },
 "nbformat": 4,
 "nbformat_minor": 4
}
