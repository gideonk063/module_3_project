{
 "cells": [
  {
   "cell_type": "code",
   "execution_count": 1,
   "metadata": {},
   "outputs": [],
   "source": [
    "import pandas as pd\n",
    "import numpy as np\n",
    "import scipy.stats as stats\n",
    "import matplotlib.pyplot as plt\n",
    "import seaborn as sns"
   ]
  },
  {
   "cell_type": "code",
   "execution_count": 2,
   "metadata": {},
   "outputs": [],
   "source": [
    "club_rankings = pd.read_csv('spi_global_rankings.csv')\n",
    "matches = pd.read_csv('spi_matches.csv')"
   ]
  },
  {
   "cell_type": "code",
   "execution_count": 3,
   "metadata": {},
   "outputs": [],
   "source": [
    "matches_with_xg = matches.dropna(0, subset=['xg1'])"
   ]
  },
  {
   "cell_type": "code",
   "execution_count": 17,
   "metadata": {},
   "outputs": [
    {
     "data": {
      "text/html": [
       "<div>\n",
       "<style scoped>\n",
       "    .dataframe tbody tr th:only-of-type {\n",
       "        vertical-align: middle;\n",
       "    }\n",
       "\n",
       "    .dataframe tbody tr th {\n",
       "        vertical-align: top;\n",
       "    }\n",
       "\n",
       "    .dataframe thead th {\n",
       "        text-align: right;\n",
       "    }\n",
       "</style>\n",
       "<table border=\"1\" class=\"dataframe\">\n",
       "  <thead>\n",
       "    <tr style=\"text-align: right;\">\n",
       "      <th></th>\n",
       "      <th>rank</th>\n",
       "      <th>name</th>\n",
       "    </tr>\n",
       "  </thead>\n",
       "  <tbody>\n",
       "    <tr>\n",
       "      <td>0</td>\n",
       "      <td>1</td>\n",
       "      <td>Manchester City</td>\n",
       "    </tr>\n",
       "    <tr>\n",
       "      <td>1</td>\n",
       "      <td>2</td>\n",
       "      <td>Bayern Munich</td>\n",
       "    </tr>\n",
       "    <tr>\n",
       "      <td>2</td>\n",
       "      <td>3</td>\n",
       "      <td>Liverpool</td>\n",
       "    </tr>\n",
       "    <tr>\n",
       "      <td>3</td>\n",
       "      <td>4</td>\n",
       "      <td>Barcelona</td>\n",
       "    </tr>\n",
       "    <tr>\n",
       "      <td>4</td>\n",
       "      <td>5</td>\n",
       "      <td>Paris Saint-Germain</td>\n",
       "    </tr>\n",
       "    <tr>\n",
       "      <td>...</td>\n",
       "      <td>...</td>\n",
       "      <td>...</td>\n",
       "    </tr>\n",
       "    <tr>\n",
       "      <td>624</td>\n",
       "      <td>625</td>\n",
       "      <td>Grimsby Town</td>\n",
       "    </tr>\n",
       "    <tr>\n",
       "      <td>625</td>\n",
       "      <td>626</td>\n",
       "      <td>Macclesfield</td>\n",
       "    </tr>\n",
       "    <tr>\n",
       "      <td>626</td>\n",
       "      <td>627</td>\n",
       "      <td>Walsall</td>\n",
       "    </tr>\n",
       "    <tr>\n",
       "      <td>627</td>\n",
       "      <td>628</td>\n",
       "      <td>Colorado Springs Switchbacks FC</td>\n",
       "    </tr>\n",
       "    <tr>\n",
       "      <td>628</td>\n",
       "      <td>629</td>\n",
       "      <td>Morecambe</td>\n",
       "    </tr>\n",
       "  </tbody>\n",
       "</table>\n",
       "<p>629 rows × 2 columns</p>\n",
       "</div>"
      ],
      "text/plain": [
       "     rank                             name\n",
       "0       1                  Manchester City\n",
       "1       2                    Bayern Munich\n",
       "2       3                        Liverpool\n",
       "3       4                        Barcelona\n",
       "4       5              Paris Saint-Germain\n",
       "..    ...                              ...\n",
       "624   625                     Grimsby Town\n",
       "625   626                     Macclesfield\n",
       "626   627                          Walsall\n",
       "627   628  Colorado Springs Switchbacks FC\n",
       "628   629                        Morecambe\n",
       "\n",
       "[629 rows x 2 columns]"
      ]
     },
     "execution_count": 17,
     "metadata": {},
     "output_type": "execute_result"
    }
   ],
   "source": [
    "name_and_rank = club_rankings[['rank', 'name']].copy()\n",
    "name_and_rank"
   ]
  },
  {
   "cell_type": "code",
   "execution_count": 5,
   "metadata": {},
   "outputs": [],
   "source": [
    "home_teams = matches[['date', 'team1', 'spi1', 'proj_score1', 'score1']].copy()\n",
    "away_teams = matches[['date', 'team2', 'spi2', 'proj_score2', 'score2']].copy()"
   ]
  },
  {
   "cell_type": "code",
   "execution_count": 6,
   "metadata": {},
   "outputs": [],
   "source": [
    "score_vs_proj = home_teams['score1'] - home_teams['proj_score1']"
   ]
  },
  {
   "cell_type": "code",
   "execution_count": 7,
   "metadata": {},
   "outputs": [],
   "source": [
    "home_teams['score_vs_proj'] = score_vs_proj"
   ]
  },
  {
   "cell_type": "code",
   "execution_count": 8,
   "metadata": {},
   "outputs": [],
   "source": [
    "home_teams.rename(columns={'team1': 'team', 'score1': 'score', 'proj_score1': 'projected', 'spi1': 'spi'}, inplace=True)"
   ]
  },
  {
   "cell_type": "code",
   "execution_count": 9,
   "metadata": {},
   "outputs": [],
   "source": [
    "score_vs_proj2 = away_teams['score2'] - away_teams['proj_score2']\n",
    "type(score_vs_proj2)\n",
    "away_teams['score_vs_proj'] = score_vs_proj2"
   ]
  },
  {
   "cell_type": "code",
   "execution_count": 10,
   "metadata": {},
   "outputs": [],
   "source": [
    "away_teams.rename(columns = {'team2': 'team', 'score2': 'score', 'proj_score2': 'projected', 'spi2': 'spi'}, inplace=True)"
   ]
  },
  {
   "cell_type": "code",
   "execution_count": 11,
   "metadata": {},
   "outputs": [],
   "source": [
    "home_teams.dropna(inplace=True)\n",
    "away_teams.dropna(inplace=True)"
   ]
  },
  {
   "cell_type": "code",
   "execution_count": 12,
   "metadata": {},
   "outputs": [],
   "source": [
    "all_teams = home_teams.append(away_teams)"
   ]
  },
  {
   "cell_type": "code",
   "execution_count": 39,
   "metadata": {},
   "outputs": [
    {
     "name": "stdout",
     "output_type": "stream",
     "text": [
      "<class 'pandas.core.frame.DataFrame'>\n",
      "Int64Index: 55420 entries, 0 to 27723\n",
      "Data columns (total 6 columns):\n",
      "date             55420 non-null object\n",
      "team             55420 non-null object\n",
      "spi              55420 non-null float64\n",
      "projected        55420 non-null float64\n",
      "score            55420 non-null float64\n",
      "score_vs_proj    55420 non-null float64\n",
      "dtypes: float64(4), object(2)\n",
      "memory usage: 3.0+ MB\n"
     ]
    }
   ],
   "source": [
    "all_teams.info()"
   ]
  },
  {
   "cell_type": "code",
   "execution_count": 13,
   "metadata": {},
   "outputs": [],
   "source": [
    "team_averages = all_teams.groupby(by='team').mean()\n",
    "games_played = all_teams.groupby(by='team').size()\n",
    "team_averages['games'] = games_played"
   ]
  },
  {
   "cell_type": "code",
   "execution_count": 14,
   "metadata": {},
   "outputs": [
    {
     "data": {
      "text/html": [
       "<div>\n",
       "<style scoped>\n",
       "    .dataframe tbody tr th:only-of-type {\n",
       "        vertical-align: middle;\n",
       "    }\n",
       "\n",
       "    .dataframe tbody tr th {\n",
       "        vertical-align: top;\n",
       "    }\n",
       "\n",
       "    .dataframe thead th {\n",
       "        text-align: right;\n",
       "    }\n",
       "</style>\n",
       "<table border=\"1\" class=\"dataframe\">\n",
       "  <thead>\n",
       "    <tr style=\"text-align: right;\">\n",
       "      <th></th>\n",
       "      <th>spi</th>\n",
       "      <th>projected</th>\n",
       "      <th>score</th>\n",
       "      <th>score_vs_proj</th>\n",
       "      <th>games</th>\n",
       "    </tr>\n",
       "    <tr>\n",
       "      <th>team</th>\n",
       "      <th></th>\n",
       "      <th></th>\n",
       "      <th></th>\n",
       "      <th></th>\n",
       "      <th></th>\n",
       "    </tr>\n",
       "  </thead>\n",
       "  <tbody>\n",
       "    <tr>\n",
       "      <td>1. FC Heidenheim 1846</td>\n",
       "      <td>33.368916</td>\n",
       "      <td>1.317831</td>\n",
       "      <td>1.542169</td>\n",
       "      <td>0.224337</td>\n",
       "      <td>83</td>\n",
       "    </tr>\n",
       "    <tr>\n",
       "      <td>1. FC Kaiserslautern</td>\n",
       "      <td>34.278824</td>\n",
       "      <td>1.155588</td>\n",
       "      <td>1.235294</td>\n",
       "      <td>0.079706</td>\n",
       "      <td>34</td>\n",
       "    </tr>\n",
       "    <tr>\n",
       "      <td>1. FC Magdeburg</td>\n",
       "      <td>30.305882</td>\n",
       "      <td>1.236176</td>\n",
       "      <td>1.029412</td>\n",
       "      <td>-0.206765</td>\n",
       "      <td>34</td>\n",
       "    </tr>\n",
       "    <tr>\n",
       "      <td>1. FC Nürnberg</td>\n",
       "      <td>47.050000</td>\n",
       "      <td>1.322530</td>\n",
       "      <td>1.301205</td>\n",
       "      <td>-0.021325</td>\n",
       "      <td>83</td>\n",
       "    </tr>\n",
       "    <tr>\n",
       "      <td>1. FC Union Berlin</td>\n",
       "      <td>44.512469</td>\n",
       "      <td>1.451111</td>\n",
       "      <td>1.530864</td>\n",
       "      <td>0.079753</td>\n",
       "      <td>81</td>\n",
       "    </tr>\n",
       "  </tbody>\n",
       "</table>\n",
       "</div>"
      ],
      "text/plain": [
       "                             spi  projected     score  score_vs_proj  games\n",
       "team                                                                       \n",
       "1. FC Heidenheim 1846  33.368916   1.317831  1.542169       0.224337     83\n",
       "1. FC Kaiserslautern   34.278824   1.155588  1.235294       0.079706     34\n",
       "1. FC Magdeburg        30.305882   1.236176  1.029412      -0.206765     34\n",
       "1. FC Nürnberg         47.050000   1.322530  1.301205      -0.021325     83\n",
       "1. FC Union Berlin     44.512469   1.451111  1.530864       0.079753     81"
      ]
     },
     "execution_count": 14,
     "metadata": {},
     "output_type": "execute_result"
    }
   ],
   "source": [
    "team_averages.head()"
   ]
  },
  {
   "cell_type": "code",
   "execution_count": 18,
   "metadata": {},
   "outputs": [],
   "source": [
    "name_and_rank.rename(columns={'name': 'team'}, inplace=True)"
   ]
  },
  {
   "cell_type": "code",
   "execution_count": 28,
   "metadata": {},
   "outputs": [],
   "source": [
    "team_averages_w_rank = team_averages.merge(name_and_rank, how='inner', on='team')"
   ]
  },
  {
   "cell_type": "code",
   "execution_count": 21,
   "metadata": {},
   "outputs": [
    {
     "data": {
      "text/html": [
       "<div>\n",
       "<style scoped>\n",
       "    .dataframe tbody tr th:only-of-type {\n",
       "        vertical-align: middle;\n",
       "    }\n",
       "\n",
       "    .dataframe tbody tr th {\n",
       "        vertical-align: top;\n",
       "    }\n",
       "\n",
       "    .dataframe thead th {\n",
       "        text-align: right;\n",
       "    }\n",
       "</style>\n",
       "<table border=\"1\" class=\"dataframe\">\n",
       "  <thead>\n",
       "    <tr style=\"text-align: right;\">\n",
       "      <th></th>\n",
       "      <th>team</th>\n",
       "      <th>spi</th>\n",
       "      <th>projected</th>\n",
       "      <th>score</th>\n",
       "      <th>score_vs_proj</th>\n",
       "      <th>games</th>\n",
       "      <th>rank</th>\n",
       "    </tr>\n",
       "  </thead>\n",
       "  <tbody>\n",
       "    <tr>\n",
       "      <td>0</td>\n",
       "      <td>1. FC Heidenheim 1846</td>\n",
       "      <td>33.368916</td>\n",
       "      <td>1.317831</td>\n",
       "      <td>1.542169</td>\n",
       "      <td>0.224337</td>\n",
       "      <td>83</td>\n",
       "      <td>384</td>\n",
       "    </tr>\n",
       "    <tr>\n",
       "      <td>1</td>\n",
       "      <td>1. FC Nürnberg</td>\n",
       "      <td>47.050000</td>\n",
       "      <td>1.322530</td>\n",
       "      <td>1.301205</td>\n",
       "      <td>-0.021325</td>\n",
       "      <td>83</td>\n",
       "      <td>363</td>\n",
       "    </tr>\n",
       "    <tr>\n",
       "      <td>2</td>\n",
       "      <td>1. FC Union Berlin</td>\n",
       "      <td>44.512469</td>\n",
       "      <td>1.451111</td>\n",
       "      <td>1.530864</td>\n",
       "      <td>0.079753</td>\n",
       "      <td>81</td>\n",
       "      <td>96</td>\n",
       "    </tr>\n",
       "    <tr>\n",
       "      <td>3</td>\n",
       "      <td>AC Ajaccio</td>\n",
       "      <td>29.977609</td>\n",
       "      <td>1.222609</td>\n",
       "      <td>1.206522</td>\n",
       "      <td>-0.016087</td>\n",
       "      <td>92</td>\n",
       "      <td>437</td>\n",
       "    </tr>\n",
       "    <tr>\n",
       "      <td>4</td>\n",
       "      <td>AC Horsens</td>\n",
       "      <td>28.614000</td>\n",
       "      <td>1.130200</td>\n",
       "      <td>0.960000</td>\n",
       "      <td>-0.170200</td>\n",
       "      <td>50</td>\n",
       "      <td>520</td>\n",
       "    </tr>\n",
       "  </tbody>\n",
       "</table>\n",
       "</div>"
      ],
      "text/plain": [
       "                    team        spi  projected     score  score_vs_proj  \\\n",
       "0  1. FC Heidenheim 1846  33.368916   1.317831  1.542169       0.224337   \n",
       "1         1. FC Nürnberg  47.050000   1.322530  1.301205      -0.021325   \n",
       "2     1. FC Union Berlin  44.512469   1.451111  1.530864       0.079753   \n",
       "3             AC Ajaccio  29.977609   1.222609  1.206522      -0.016087   \n",
       "4             AC Horsens  28.614000   1.130200  0.960000      -0.170200   \n",
       "\n",
       "   games  rank  \n",
       "0     83   384  \n",
       "1     83   363  \n",
       "2     81    96  \n",
       "3     92   437  \n",
       "4     50   520  "
      ]
     },
     "execution_count": 21,
     "metadata": {},
     "output_type": "execute_result"
    }
   ],
   "source": [
    "team_averages_w_rank.head()"
   ]
  },
  {
   "cell_type": "code",
   "execution_count": 22,
   "metadata": {},
   "outputs": [
    {
     "data": {
      "text/plain": [
       "<matplotlib.axes._subplots.AxesSubplot at 0x150d6730588>"
      ]
     },
     "execution_count": 22,
     "metadata": {},
     "output_type": "execute_result"
    },
    {
     "data": {
      "image/png": "[encoded data removed]",
      "text/plain": [
       "<Figure size 432x288 with 1 Axes>"
      ]
     },
     "metadata": {
      "needs_background": "light"
     },
     "output_type": "display_data"
    }
   ],
   "source": [
    "sns.distplot(team_averages_w_rank['score_vs_proj'], bins=50)"
   ]
  },
  {
   "cell_type": "code",
   "execution_count": 23,
   "metadata": {},
   "outputs": [
    {
     "data": {
      "text/html": [
       "<div>\n",
       "<style scoped>\n",
       "    .dataframe tbody tr th:only-of-type {\n",
       "        vertical-align: middle;\n",
       "    }\n",
       "\n",
       "    .dataframe tbody tr th {\n",
       "        vertical-align: top;\n",
       "    }\n",
       "\n",
       "    .dataframe thead th {\n",
       "        text-align: right;\n",
       "    }\n",
       "</style>\n",
       "<table border=\"1\" class=\"dataframe\">\n",
       "  <thead>\n",
       "    <tr style=\"text-align: right;\">\n",
       "      <th></th>\n",
       "      <th>spi</th>\n",
       "      <th>projected</th>\n",
       "      <th>score</th>\n",
       "      <th>score_vs_proj</th>\n",
       "      <th>games</th>\n",
       "      <th>rank</th>\n",
       "    </tr>\n",
       "  </thead>\n",
       "  <tbody>\n",
       "    <tr>\n",
       "      <td>count</td>\n",
       "      <td>629.000000</td>\n",
       "      <td>629.000000</td>\n",
       "      <td>629.000000</td>\n",
       "      <td>629.000000</td>\n",
       "      <td>629.000000</td>\n",
       "      <td>629.00000</td>\n",
       "    </tr>\n",
       "    <tr>\n",
       "      <td>mean</td>\n",
       "      <td>41.908167</td>\n",
       "      <td>1.320050</td>\n",
       "      <td>1.342696</td>\n",
       "      <td>0.022646</td>\n",
       "      <td>80.352941</td>\n",
       "      <td>315.00000</td>\n",
       "    </tr>\n",
       "    <tr>\n",
       "      <td>std</td>\n",
       "      <td>17.170683</td>\n",
       "      <td>0.277898</td>\n",
       "      <td>0.332991</td>\n",
       "      <td>0.143111</td>\n",
       "      <td>36.249613</td>\n",
       "      <td>181.72094</td>\n",
       "    </tr>\n",
       "    <tr>\n",
       "      <td>min</td>\n",
       "      <td>6.770769</td>\n",
       "      <td>0.635455</td>\n",
       "      <td>0.578947</td>\n",
       "      <td>-0.464211</td>\n",
       "      <td>5.000000</td>\n",
       "      <td>1.00000</td>\n",
       "    </tr>\n",
       "    <tr>\n",
       "      <td>25%</td>\n",
       "      <td>30.027941</td>\n",
       "      <td>1.134762</td>\n",
       "      <td>1.109375</td>\n",
       "      <td>-0.066702</td>\n",
       "      <td>50.000000</td>\n",
       "      <td>158.00000</td>\n",
       "    </tr>\n",
       "    <tr>\n",
       "      <td>50%</td>\n",
       "      <td>40.640843</td>\n",
       "      <td>1.264118</td>\n",
       "      <td>1.292308</td>\n",
       "      <td>0.010000</td>\n",
       "      <td>81.000000</td>\n",
       "      <td>315.00000</td>\n",
       "    </tr>\n",
       "    <tr>\n",
       "      <td>75%</td>\n",
       "      <td>52.592632</td>\n",
       "      <td>1.451111</td>\n",
       "      <td>1.516484</td>\n",
       "      <td>0.100667</td>\n",
       "      <td>106.000000</td>\n",
       "      <td>472.00000</td>\n",
       "    </tr>\n",
       "    <tr>\n",
       "      <td>max</td>\n",
       "      <td>93.419636</td>\n",
       "      <td>2.711900</td>\n",
       "      <td>2.940000</td>\n",
       "      <td>0.855833</td>\n",
       "      <td>170.000000</td>\n",
       "      <td>629.00000</td>\n",
       "    </tr>\n",
       "  </tbody>\n",
       "</table>\n",
       "</div>"
      ],
      "text/plain": [
       "              spi   projected       score  score_vs_proj       games  \\\n",
       "count  629.000000  629.000000  629.000000     629.000000  629.000000   \n",
       "mean    41.908167    1.320050    1.342696       0.022646   80.352941   \n",
       "std     17.170683    0.277898    0.332991       0.143111   36.249613   \n",
       "min      6.770769    0.635455    0.578947      -0.464211    5.000000   \n",
       "25%     30.027941    1.134762    1.109375      -0.066702   50.000000   \n",
       "50%     40.640843    1.264118    1.292308       0.010000   81.000000   \n",
       "75%     52.592632    1.451111    1.516484       0.100667  106.000000   \n",
       "max     93.419636    2.711900    2.940000       0.855833  170.000000   \n",
       "\n",
       "            rank  \n",
       "count  629.00000  \n",
       "mean   315.00000  \n",
       "std    181.72094  \n",
       "min      1.00000  \n",
       "25%    158.00000  \n",
       "50%    315.00000  \n",
       "75%    472.00000  \n",
       "max    629.00000  "
      ]
     },
     "execution_count": 23,
     "metadata": {},
     "output_type": "execute_result"
    }
   ],
   "source": [
    "team_averages_w_rank.describe()"
   ]
  },
  {
   "cell_type": "code",
   "execution_count": 29,
   "metadata": {},
   "outputs": [],
   "source": [
    "team_averages_w_rank = team_averages_w_rank.loc[(team_averages_w_rank['games'] > 20)]"
   ]
  },
  {
   "cell_type": "code",
   "execution_count": 58,
   "metadata": {},
   "outputs": [
    {
     "data": {
      "text/plain": [
       "Text(0.5, 1.0, 'Distribution of Team Performace vs Expectation')"
      ]
     },
     "execution_count": 58,
     "metadata": {},
     "output_type": "execute_result"
    },
    {
     "data": {
      "image/png": "[encoded data removed]",
      "text/plain": [
       "<Figure size 432x288 with 1 Axes>"
      ]
     },
     "metadata": {
      "needs_background": "light"
     },
     "output_type": "display_data"
    }
   ],
   "source": [
    "sns.distplot(team_averages_w_rank['score_vs_proj'], bins=50)\n",
    "sns.distplot(top_50['score_vs_proj'], bins=25)\n",
    "plt.xlabel('Score vs Projected')\n",
    "plt.title('Distribution of Team Performace vs Expectation')"
   ]
  },
  {
   "cell_type": "code",
   "execution_count": 31,
   "metadata": {},
   "outputs": [],
   "source": [
    "top_50 = team_averages_w_rank.loc[(team_averages_w_rank['rank'] <= 50)]"
   ]
  },
  {
   "cell_type": "code",
   "execution_count": 33,
   "metadata": {},
   "outputs": [
    {
     "data": {
      "text/html": [
       "<div>\n",
       "<style scoped>\n",
       "    .dataframe tbody tr th:only-of-type {\n",
       "        vertical-align: middle;\n",
       "    }\n",
       "\n",
       "    .dataframe tbody tr th {\n",
       "        vertical-align: top;\n",
       "    }\n",
       "\n",
       "    .dataframe thead th {\n",
       "        text-align: right;\n",
       "    }\n",
       "</style>\n",
       "<table border=\"1\" class=\"dataframe\">\n",
       "  <thead>\n",
       "    <tr style=\"text-align: right;\">\n",
       "      <th></th>\n",
       "      <th>spi</th>\n",
       "      <th>projected</th>\n",
       "      <th>score</th>\n",
       "      <th>score_vs_proj</th>\n",
       "      <th>games</th>\n",
       "      <th>rank</th>\n",
       "    </tr>\n",
       "  </thead>\n",
       "  <tbody>\n",
       "    <tr>\n",
       "      <td>count</td>\n",
       "      <td>50.000000</td>\n",
       "      <td>50.000000</td>\n",
       "      <td>50.000000</td>\n",
       "      <td>50.000000</td>\n",
       "      <td>50.000000</td>\n",
       "      <td>50.00000</td>\n",
       "    </tr>\n",
       "    <tr>\n",
       "      <td>mean</td>\n",
       "      <td>75.080947</td>\n",
       "      <td>1.709553</td>\n",
       "      <td>1.786251</td>\n",
       "      <td>0.076699</td>\n",
       "      <td>133.260000</td>\n",
       "      <td>25.50000</td>\n",
       "    </tr>\n",
       "    <tr>\n",
       "      <td>std</td>\n",
       "      <td>9.654854</td>\n",
       "      <td>0.401970</td>\n",
       "      <td>0.421592</td>\n",
       "      <td>0.106159</td>\n",
       "      <td>29.485251</td>\n",
       "      <td>14.57738</td>\n",
       "    </tr>\n",
       "    <tr>\n",
       "      <td>min</td>\n",
       "      <td>49.421971</td>\n",
       "      <td>1.084922</td>\n",
       "      <td>1.093750</td>\n",
       "      <td>-0.156424</td>\n",
       "      <td>21.000000</td>\n",
       "      <td>1.00000</td>\n",
       "    </tr>\n",
       "    <tr>\n",
       "      <td>25%</td>\n",
       "      <td>71.189539</td>\n",
       "      <td>1.355682</td>\n",
       "      <td>1.481654</td>\n",
       "      <td>0.006142</td>\n",
       "      <td>117.750000</td>\n",
       "      <td>13.25000</td>\n",
       "    </tr>\n",
       "    <tr>\n",
       "      <td>50%</td>\n",
       "      <td>74.660172</td>\n",
       "      <td>1.644875</td>\n",
       "      <td>1.740140</td>\n",
       "      <td>0.070751</td>\n",
       "      <td>138.000000</td>\n",
       "      <td>25.50000</td>\n",
       "    </tr>\n",
       "    <tr>\n",
       "      <td>75%</td>\n",
       "      <td>80.762995</td>\n",
       "      <td>1.930743</td>\n",
       "      <td>1.968866</td>\n",
       "      <td>0.146390</td>\n",
       "      <td>155.250000</td>\n",
       "      <td>37.75000</td>\n",
       "    </tr>\n",
       "    <tr>\n",
       "      <td>max</td>\n",
       "      <td>93.419636</td>\n",
       "      <td>2.711900</td>\n",
       "      <td>2.940000</td>\n",
       "      <td>0.328406</td>\n",
       "      <td>170.000000</td>\n",
       "      <td>50.00000</td>\n",
       "    </tr>\n",
       "  </tbody>\n",
       "</table>\n",
       "</div>"
      ],
      "text/plain": [
       "             spi  projected      score  score_vs_proj       games      rank\n",
       "count  50.000000  50.000000  50.000000      50.000000   50.000000  50.00000\n",
       "mean   75.080947   1.709553   1.786251       0.076699  133.260000  25.50000\n",
       "std     9.654854   0.401970   0.421592       0.106159   29.485251  14.57738\n",
       "min    49.421971   1.084922   1.093750      -0.156424   21.000000   1.00000\n",
       "25%    71.189539   1.355682   1.481654       0.006142  117.750000  13.25000\n",
       "50%    74.660172   1.644875   1.740140       0.070751  138.000000  25.50000\n",
       "75%    80.762995   1.930743   1.968866       0.146390  155.250000  37.75000\n",
       "max    93.419636   2.711900   2.940000       0.328406  170.000000  50.00000"
      ]
     },
     "execution_count": 33,
     "metadata": {},
     "output_type": "execute_result"
    }
   ],
   "source": [
    "top_50.describe()"
   ]
  },
  {
   "cell_type": "code",
   "execution_count": 38,
   "metadata": {},
   "outputs": [
    {
     "data": {
      "text/plain": [
       "Ttest_1sampResult(statistic=3.782322728565078, pvalue=0.00042314492970612196)"
      ]
     },
     "execution_count": 38,
     "metadata": {},
     "output_type": "execute_result"
    }
   ],
   "source": [
    "stats.ttest_1samp(top_50['score_vs_proj'], team_averages_w_rank['score_vs_proj'].mean())"
   ]
  },
  {
   "cell_type": "code",
   "execution_count": null,
   "metadata": {},
   "outputs": [],
   "source": []
  }
 ],
 "metadata": {
  "kernelspec": {
   "display_name": "Python 3",
   "language": "python",
   "name": "python3"
  },
  "language_info": {
   "codemirror_mode": {
    "name": "ipython",
    "version": 3
   },
   "file_extension": ".py",
   "mimetype": "text/x-python",
   "name": "python",
   "nbconvert_exporter": "python",
   "pygments_lexer": "ipython3",
   "version": "3.6.9"
  }
 },
 "nbformat": 4,
 "nbformat_minor": 4
}
